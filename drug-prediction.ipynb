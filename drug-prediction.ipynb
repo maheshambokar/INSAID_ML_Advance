{
 "cells": [
  {
   "cell_type": "markdown",
   "id": "59a2fa20",
   "metadata": {},
   "source": [
    "<center><img src=\"https://github.com/insaid2018/Term-1/blob/master/Images/INSAID_Full%20Logo.png?raw=true\" width=\"240\" height=\"120\" /></center>\n",
    "<center>ML2: Drug Prediction - Classification</center>\n",
    "<center>By : Mahesh Ambokar - Jan 2021 Cohort</center>"
   ]
  },
  {
   "cell_type": "markdown",
   "id": "1c9b080c",
   "metadata": {},
   "source": [
    "# Project Description\n",
    "\n",
    "## Company Introduction \n",
    "\n",
    "The client for this project is a pharmaceutical company. \n",
    "\n",
    "They have a long history of making effective drugs and are the leading producer of antibiotics for bacterial infection. \n",
    "\n",
    "Their research and development team have recently developed five types of drugs to fight against chronic throat infection. \n",
    "\n",
    "They want to quickly release the drug in the market so that they could cure people and increase revenue for the company. \n",
    "\n",
    "Their R&D team made a brief analysis of the chemical composition present in the drug and made a brief report stating that each drug has a different effect according to their health. \n",
    "\n",
    "The drug which has a higher concentration of chemicals should be given to those groups of people whose health report passes some criteria as suggested by the R&D team. \n",
    "\n",
    " \n",
    " \n",
    "\n",
    "## Current Scenario \n",
    "\n",
    "The R&D group has invited some groups of people to test the drug, but going through each person’s health report might take a lot of time and cause a delay in launching the drug in the market. \n",
    "\n",
    "The current process suffers from the following problems: \n",
    "\n",
    "Testing phase takes a lot of time and it's done manually because they need to carefully examine each person for the side effects. \n",
    "\n",
    "Most of the crucial time is being wasted in checking each person’s health report and dispensing specific drugs according to the health metric as suggested by the R&D team. \n",
    "\n",
    "This process is time-consuming and wastage of resources. \n",
    "\n",
    " \n",
    " \n",
    "\n",
    "The company has hired you as data science consultants. They want to automate the process of assigning the drug according to their health report. \n",
    "\n",
    "## My Role \n",
    "\n",
    "Given a dataset containing the health report of the people from the test group. \n",
    "\n",
    "The main task is to build a multi-class classification model using the dataset. \n",
    "\n",
    "Because there was no machine learning model for this problem in the company, we don’t have a quantifiable win condition. \n",
    "\n",
    "Need to build the best possible model. \n",
    "\n",
    " \n",
    "\n",
    "## Project Deliverables \n",
    "\n",
    "Deliverable: Drug classification. \n",
    "\n",
    "Machine Learning Task: Multi-class classification \n",
    "\n",
    "Target Variable: Drug \n",
    "\n",
    "Win Condition: N/A (best possible model) \n",
    "\n",
    " \n",
    " \n",
    "\n",
    "## Evaluation Metric \n",
    "\n",
    "The model evaluation will be based on the Accuracy Score. \n",
    "\n",
    "To learn about F1 Score’s Python implementation, please visit this link. \n",
    "\n",
    " "
   ]
  },
  {
   "cell_type": "markdown",
   "id": "d94e5568",
   "metadata": {},
   "source": [
    "## 1.Data Acquisition & Description\n",
    "\n",
    "### The dataset is divided into two parts: Train, and Test sets. \n",
    "\n",
    "#### Train Set: \n",
    "\n",
    "    The train set contains 160 rows and 7 columns. \n",
    "\n",
    "    The last column Drug is the target variable. \n",
    "\n",
    " \n",
    " \n",
    "\n",
    "#### Test Set: \n",
    "\n",
    "    The test set contains 40 rows and 6 columns. \n",
    "\n",
    "    The test set doesn’t contain the Drug column. \n",
    "\n",
    "    It needs to be predicted for the test set. "
   ]
  },
  {
   "cell_type": "markdown",
   "id": "22279b6c",
   "metadata": {},
   "source": [
    "## Dataset Feature Description \n",
    "\n",
    "### The Dataset contains the following columns: \n",
    " 1. Id  : Unique Id of the sample \n",
    " 2. Age : Age of the person \n",
    " 3. Sex : The sex of the person(M and F) \n",
    " 4. BP  : Blood pressure of the person\n",
    " 5. Cholestrol: The level of cholesterol in a person's body\n",
    " 6. Na_to_k : Sodium and potassium ratio \n",
    " 7. Drug : Contains 5 classes of drugs as(drug A , drug B, drug C, drug X, drug Y)"
   ]
  },
  {
   "cell_type": "code",
   "execution_count": 2,
   "id": "e1048ce5",
   "metadata": {},
   "outputs": [],
   "source": [
    "import pandas as pd\n",
    "import numpy as np\n",
    "import seaborn as sns\n",
    "import matplotlib.pyplot as plt\n",
    "\n",
    "from pandas_profiling import ProfileReport                          # Import Pandas Profiling (To generate Univariate Analysis) \n",
    "pd.set_option('display.max_columns', None)                          # Unfolding hidden features if the cardinality is high      \n",
    "pd.set_option('display.max_rows', None)                             # Unfolding hidden data points if the cardinality is high\n",
    "pd.set_option('mode.chained_assignment', None)                      # Removing restriction over chained assignments operations\n",
    "pd.set_option('display.float_format', lambda x: '%.5f' % x) \n",
    "\n",
    "#-------------------------------------------------------------------------------------------------------------------------------\n",
    "import warnings                                                     # Importing warning to disable runtime warnings\n",
    "warnings.filterwarnings(\"ignore\")    "
   ]
  },
  {
   "cell_type": "code",
   "execution_count": 3,
   "id": "9fbf3b6a",
   "metadata": {},
   "outputs": [],
   "source": [
    "df_drug = pd.read_csv(\"drug_train.csv\")"
   ]
  },
  {
   "cell_type": "code",
   "execution_count": 4,
   "id": "60e5b95b",
   "metadata": {},
   "outputs": [
    {
     "name": "stdout",
     "output_type": "stream",
     "text": [
      "<class 'pandas.core.frame.DataFrame'>\n",
      "RangeIndex: 160 entries, 0 to 159\n",
      "Data columns (total 7 columns):\n",
      " #   Column       Non-Null Count  Dtype  \n",
      "---  ------       --------------  -----  \n",
      " 0   Id           160 non-null    int64  \n",
      " 1   Age          160 non-null    int64  \n",
      " 2   Sex          160 non-null    object \n",
      " 3   BP           160 non-null    object \n",
      " 4   Cholesterol  160 non-null    object \n",
      " 5   Na_to_K      160 non-null    float64\n",
      " 6   Drug         160 non-null    object \n",
      "dtypes: float64(1), int64(2), object(4)\n",
      "memory usage: 8.9+ KB\n"
     ]
    }
   ],
   "source": [
    "df_drug.info()"
   ]
  },
  {
   "cell_type": "code",
   "execution_count": 5,
   "id": "7cd9d08e",
   "metadata": {},
   "outputs": [
    {
     "data": {
      "text/html": [
       "<div>\n",
       "<style scoped>\n",
       "    .dataframe tbody tr th:only-of-type {\n",
       "        vertical-align: middle;\n",
       "    }\n",
       "\n",
       "    .dataframe tbody tr th {\n",
       "        vertical-align: top;\n",
       "    }\n",
       "\n",
       "    .dataframe thead th {\n",
       "        text-align: right;\n",
       "    }\n",
       "</style>\n",
       "<table border=\"1\" class=\"dataframe\">\n",
       "  <thead>\n",
       "    <tr style=\"text-align: right;\">\n",
       "      <th></th>\n",
       "      <th>Id</th>\n",
       "      <th>Age</th>\n",
       "      <th>Sex</th>\n",
       "      <th>BP</th>\n",
       "      <th>Cholesterol</th>\n",
       "      <th>Na_to_K</th>\n",
       "      <th>Drug</th>\n",
       "    </tr>\n",
       "  </thead>\n",
       "  <tbody>\n",
       "  </tbody>\n",
       "</table>\n",
       "</div>"
      ],
      "text/plain": [
       "Empty DataFrame\n",
       "Columns: [Id, Age, Sex, BP, Cholesterol, Na_to_K, Drug]\n",
       "Index: []"
      ]
     },
     "metadata": {},
     "output_type": "display_data"
    }
   ],
   "source": [
    "duplicate = df_drug[df_drug.duplicated()]\n",
    "display(duplicate)"
   ]
  },
  {
   "cell_type": "code",
   "execution_count": 6,
   "id": "2079cc4e",
   "metadata": {},
   "outputs": [
    {
     "data": {
      "text/html": [
       "<div>\n",
       "<style scoped>\n",
       "    .dataframe tbody tr th:only-of-type {\n",
       "        vertical-align: middle;\n",
       "    }\n",
       "\n",
       "    .dataframe tbody tr th {\n",
       "        vertical-align: top;\n",
       "    }\n",
       "\n",
       "    .dataframe thead th {\n",
       "        text-align: right;\n",
       "    }\n",
       "</style>\n",
       "<table border=\"1\" class=\"dataframe\">\n",
       "  <thead>\n",
       "    <tr style=\"text-align: right;\">\n",
       "      <th></th>\n",
       "      <th>Id</th>\n",
       "      <th>Age</th>\n",
       "      <th>Sex</th>\n",
       "      <th>BP</th>\n",
       "      <th>Cholesterol</th>\n",
       "      <th>Na_to_K</th>\n",
       "      <th>Drug</th>\n",
       "    </tr>\n",
       "  </thead>\n",
       "  <tbody>\n",
       "    <tr>\n",
       "      <th>0</th>\n",
       "      <td>79</td>\n",
       "      <td>32</td>\n",
       "      <td>F</td>\n",
       "      <td>LOW</td>\n",
       "      <td>NORMAL</td>\n",
       "      <td>10.84000</td>\n",
       "      <td>drugX</td>\n",
       "    </tr>\n",
       "    <tr>\n",
       "      <th>1</th>\n",
       "      <td>197</td>\n",
       "      <td>52</td>\n",
       "      <td>M</td>\n",
       "      <td>NORMAL</td>\n",
       "      <td>HIGH</td>\n",
       "      <td>9.89400</td>\n",
       "      <td>drugX</td>\n",
       "    </tr>\n",
       "    <tr>\n",
       "      <th>2</th>\n",
       "      <td>38</td>\n",
       "      <td>39</td>\n",
       "      <td>F</td>\n",
       "      <td>NORMAL</td>\n",
       "      <td>NORMAL</td>\n",
       "      <td>9.70900</td>\n",
       "      <td>drugX</td>\n",
       "    </tr>\n",
       "    <tr>\n",
       "      <th>3</th>\n",
       "      <td>24</td>\n",
       "      <td>33</td>\n",
       "      <td>F</td>\n",
       "      <td>LOW</td>\n",
       "      <td>HIGH</td>\n",
       "      <td>33.48600</td>\n",
       "      <td>DrugY</td>\n",
       "    </tr>\n",
       "    <tr>\n",
       "      <th>4</th>\n",
       "      <td>122</td>\n",
       "      <td>34</td>\n",
       "      <td>M</td>\n",
       "      <td>NORMAL</td>\n",
       "      <td>HIGH</td>\n",
       "      <td>22.45600</td>\n",
       "      <td>DrugY</td>\n",
       "    </tr>\n",
       "  </tbody>\n",
       "</table>\n",
       "</div>"
      ],
      "text/plain": [
       "    Id  Age Sex      BP Cholesterol  Na_to_K   Drug\n",
       "0   79   32   F     LOW      NORMAL 10.84000  drugX\n",
       "1  197   52   M  NORMAL        HIGH  9.89400  drugX\n",
       "2   38   39   F  NORMAL      NORMAL  9.70900  drugX\n",
       "3   24   33   F     LOW        HIGH 33.48600  DrugY\n",
       "4  122   34   M  NORMAL        HIGH 22.45600  DrugY"
      ]
     },
     "execution_count": 6,
     "metadata": {},
     "output_type": "execute_result"
    }
   ],
   "source": [
    "df_drug.head()"
   ]
  },
  {
   "cell_type": "code",
   "execution_count": 7,
   "id": "43cd6b49",
   "metadata": {},
   "outputs": [
    {
     "data": {
      "text/html": [
       "<div>\n",
       "<style scoped>\n",
       "    .dataframe tbody tr th:only-of-type {\n",
       "        vertical-align: middle;\n",
       "    }\n",
       "\n",
       "    .dataframe tbody tr th {\n",
       "        vertical-align: top;\n",
       "    }\n",
       "\n",
       "    .dataframe thead th {\n",
       "        text-align: right;\n",
       "    }\n",
       "</style>\n",
       "<table border=\"1\" class=\"dataframe\">\n",
       "  <thead>\n",
       "    <tr style=\"text-align: right;\">\n",
       "      <th></th>\n",
       "      <th>Id</th>\n",
       "      <th>Age</th>\n",
       "      <th>Na_to_K</th>\n",
       "    </tr>\n",
       "  </thead>\n",
       "  <tbody>\n",
       "    <tr>\n",
       "      <th>count</th>\n",
       "      <td>76.00000</td>\n",
       "      <td>76.00000</td>\n",
       "      <td>76.00000</td>\n",
       "    </tr>\n",
       "    <tr>\n",
       "      <th>mean</th>\n",
       "      <td>95.80263</td>\n",
       "      <td>45.50000</td>\n",
       "      <td>22.14170</td>\n",
       "    </tr>\n",
       "    <tr>\n",
       "      <th>std</th>\n",
       "      <td>60.64784</td>\n",
       "      <td>16.77021</td>\n",
       "      <td>6.19663</td>\n",
       "    </tr>\n",
       "    <tr>\n",
       "      <th>min</th>\n",
       "      <td>0.00000</td>\n",
       "      <td>15.00000</td>\n",
       "      <td>15.01500</td>\n",
       "    </tr>\n",
       "    <tr>\n",
       "      <th>25%</th>\n",
       "      <td>41.50000</td>\n",
       "      <td>31.75000</td>\n",
       "      <td>17.01425</td>\n",
       "    </tr>\n",
       "    <tr>\n",
       "      <th>50%</th>\n",
       "      <td>93.00000</td>\n",
       "      <td>44.00000</td>\n",
       "      <td>19.90450</td>\n",
       "    </tr>\n",
       "    <tr>\n",
       "      <th>75%</th>\n",
       "      <td>145.75000</td>\n",
       "      <td>60.25000</td>\n",
       "      <td>25.89900</td>\n",
       "    </tr>\n",
       "    <tr>\n",
       "      <th>max</th>\n",
       "      <td>194.00000</td>\n",
       "      <td>74.00000</td>\n",
       "      <td>38.24700</td>\n",
       "    </tr>\n",
       "  </tbody>\n",
       "</table>\n",
       "</div>"
      ],
      "text/plain": [
       "             Id      Age  Na_to_K\n",
       "count  76.00000 76.00000 76.00000\n",
       "mean   95.80263 45.50000 22.14170\n",
       "std    60.64784 16.77021  6.19663\n",
       "min     0.00000 15.00000 15.01500\n",
       "25%    41.50000 31.75000 17.01425\n",
       "50%    93.00000 44.00000 19.90450\n",
       "75%   145.75000 60.25000 25.89900\n",
       "max   194.00000 74.00000 38.24700"
      ]
     },
     "execution_count": 7,
     "metadata": {},
     "output_type": "execute_result"
    }
   ],
   "source": [
    "# df_drug.describe()\n",
    "df_drug[df_drug['Drug']=='DrugY'].describe()"
   ]
  },
  {
   "cell_type": "markdown",
   "id": "e750d4e7",
   "metadata": {},
   "source": [
    "### Primary Data description observations\n",
    "\n",
    "    1.Numbers of features in Dataset : 7\n",
    "    2.Numeric Features : Id , Age, Na_to_K \n",
    "    3.Categorical Features : Sex,BP,Cholesterol,Drug\n",
    "    4.Target Ctegorical Variable:Drug\n",
    "    5.No Missing values in 169 rows."
   ]
  },
  {
   "cell_type": "markdown",
   "id": "930db63d",
   "metadata": {},
   "source": [
    "## 2. EDA"
   ]
  },
  {
   "cell_type": "markdown",
   "id": "050d62d0",
   "metadata": {},
   "source": [
    "###  Target Variable : Univariate Analysis"
   ]
  },
  {
   "cell_type": "code",
   "execution_count": 8,
   "id": "c026f556",
   "metadata": {},
   "outputs": [],
   "source": [
    "def plotSNSCountWithPerc(df,colname):\n",
    "    total = float(len(df))\n",
    "    ax = sns.countplot(df[colname])\n",
    "    for p in ax.patches:\n",
    "        percentage = '{:.0f}%'.format(100 * p.get_height()/total)\n",
    "        x = p.get_x() + (p.get_width()/2)\n",
    "        y = p.get_height() +1\n",
    "        ax.annotate(percentage, (x, y),ha='center')"
   ]
  },
  {
   "cell_type": "code",
   "execution_count": 9,
   "id": "63046bb0",
   "metadata": {},
   "outputs": [
    {
     "data": {
      "image/png": "[encoded data removed]",
      "text/plain": [
       "<Figure size 648x360 with 1 Axes>"
      ]
     },
     "metadata": {
      "needs_background": "light"
     },
     "output_type": "display_data"
    }
   ],
   "source": [
    "plt.figure(figsize=(9,5))\n",
    "plotSNSCountWithPerc(df_drug,\"Drug\")\n",
    "plt.show()"
   ]
  },
  {
   "cell_type": "markdown",
   "id": "81ae9c4a",
   "metadata": {},
   "source": [
    "1. Majority Classes are : drugX,DrugY. They reperesents 75% of sample dataset.\n",
    "\n",
    "\n",
    "2. Minority Classes are : drucC,drugA,drugB they constituents 25% of sample dataset.\n",
    "\n",
    "\n",
    "3. As ratio of Minority to Majority classes is 25% / 75% ~ 1/3  , we can say samples are slightly inbalanced but not extreme.\n",
    "\n",
    "\n",
    "4. So inbalance techniques are not needed right now.\n",
    "\n",
    "\n",
    "5. Depends on accuracy and F1 score we can decide for blancing teechinique in future.\n",
    "\n"
   ]
  },
  {
   "cell_type": "markdown",
   "id": "fb9f6e40",
   "metadata": {},
   "source": [
    "### 2.1 Explainatory Continuous Variable : Univariate Analysis"
   ]
  },
  {
   "cell_type": "code",
   "execution_count": 10,
   "id": "63f33c25",
   "metadata": {
    "scrolled": true
   },
   "outputs": [
    {
     "data": {
      "text/html": [
       "<div>\n",
       "<style scoped>\n",
       "    .dataframe tbody tr th:only-of-type {\n",
       "        vertical-align: middle;\n",
       "    }\n",
       "\n",
       "    .dataframe tbody tr th {\n",
       "        vertical-align: top;\n",
       "    }\n",
       "\n",
       "    .dataframe thead th {\n",
       "        text-align: right;\n",
       "    }\n",
       "</style>\n",
       "<table border=\"1\" class=\"dataframe\">\n",
       "  <thead>\n",
       "    <tr style=\"text-align: right;\">\n",
       "      <th></th>\n",
       "      <th>Id</th>\n",
       "      <th>Age</th>\n",
       "      <th>Na_to_K</th>\n",
       "    </tr>\n",
       "  </thead>\n",
       "  <tbody>\n",
       "    <tr>\n",
       "      <th>count</th>\n",
       "      <td>160.00000</td>\n",
       "      <td>160.00000</td>\n",
       "      <td>160.00000</td>\n",
       "    </tr>\n",
       "    <tr>\n",
       "      <th>mean</th>\n",
       "      <td>99.07500</td>\n",
       "      <td>45.38750</td>\n",
       "      <td>16.19499</td>\n",
       "    </tr>\n",
       "    <tr>\n",
       "      <th>std</th>\n",
       "      <td>59.37489</td>\n",
       "      <td>16.10148</td>\n",
       "      <td>7.25469</td>\n",
       "    </tr>\n",
       "    <tr>\n",
       "      <th>min</th>\n",
       "      <td>0.00000</td>\n",
       "      <td>15.00000</td>\n",
       "      <td>6.26900</td>\n",
       "    </tr>\n",
       "    <tr>\n",
       "      <th>25%</th>\n",
       "      <td>45.50000</td>\n",
       "      <td>32.00000</td>\n",
       "      <td>10.44525</td>\n",
       "    </tr>\n",
       "    <tr>\n",
       "      <th>50%</th>\n",
       "      <td>100.50000</td>\n",
       "      <td>46.00000</td>\n",
       "      <td>14.07650</td>\n",
       "    </tr>\n",
       "    <tr>\n",
       "      <th>75%</th>\n",
       "      <td>149.50000</td>\n",
       "      <td>58.25000</td>\n",
       "      <td>19.48075</td>\n",
       "    </tr>\n",
       "    <tr>\n",
       "      <th>max</th>\n",
       "      <td>199.00000</td>\n",
       "      <td>74.00000</td>\n",
       "      <td>38.24700</td>\n",
       "    </tr>\n",
       "  </tbody>\n",
       "</table>\n",
       "</div>"
      ],
      "text/plain": [
       "             Id       Age   Na_to_K\n",
       "count 160.00000 160.00000 160.00000\n",
       "mean   99.07500  45.38750  16.19499\n",
       "std    59.37489  16.10148   7.25469\n",
       "min     0.00000  15.00000   6.26900\n",
       "25%    45.50000  32.00000  10.44525\n",
       "50%   100.50000  46.00000  14.07650\n",
       "75%   149.50000  58.25000  19.48075\n",
       "max   199.00000  74.00000  38.24700"
      ]
     },
     "execution_count": 10,
     "metadata": {},
     "output_type": "execute_result"
    }
   ],
   "source": [
    "df_drug.describe()"
   ]
  },
  {
   "cell_type": "code",
   "execution_count": 11,
   "id": "a48c6a81",
   "metadata": {},
   "outputs": [
    {
     "data": {
      "image/png": "[encoded data removed]",
      "text/plain": [
       "<Figure size 1296x576 with 3 Axes>"
      ]
     },
     "metadata": {
      "needs_background": "light"
     },
     "output_type": "display_data"
    }
   ],
   "source": [
    "plt.figure(figsize=(18,8))\n",
    "plt.subplot(1,3,1)\n",
    "sns.distplot(df_drug[\"Age\"])\n",
    "df_drug[\"Na_to_K_log\"] = np.log(df_drug[\"Na_to_K\"])\n",
    "\n",
    "plt.subplot(1,3,2)\n",
    "sns.distplot(df_drug[\"Na_to_K\"])\n",
    "\n",
    "plt.subplot(1,3,3)\n",
    "sns.distplot(df_drug[\"Na_to_K_log\"])\n",
    "\n",
    "plt.show()"
   ]
  },
  {
   "cell_type": "code",
   "execution_count": 12,
   "id": "30a6a016",
   "metadata": {},
   "outputs": [
    {
     "data": {
      "text/plain": [
       "count   160.00000\n",
       "mean      2.69407\n",
       "std       0.42111\n",
       "min       1.83562\n",
       "25%       2.34615\n",
       "50%       2.64450\n",
       "75%       2.96941\n",
       "85%       3.23321\n",
       "90%       3.28416\n",
       "100%      3.64407\n",
       "max       3.64407\n",
       "Name: Na_to_K_log, dtype: float64"
      ]
     },
     "execution_count": 12,
     "metadata": {},
     "output_type": "execute_result"
    }
   ],
   "source": [
    "# print(df_drug[plt.figure(figsize=(10,20))\n",
    "df_drug[\"Na_to_K_log\"].describe(percentiles = [0.25,0.50,0.75,0.85,0.90,1])"
   ]
  },
  {
   "cell_type": "markdown",
   "id": "a837925e",
   "metadata": {},
   "source": [
    " 1. Age Data is normally distributed as mean(45.38750) is closer to median(46)\n",
    " \n",
    " \n",
    " 2. Na_to_K : Mean (16.19499) is greter than median(14.07), hence right skewed or positively skewed.\n",
    " \n",
    " \n",
    " 3. Na_to_k_log : created new feature to see if log transformation of Na_to_k brings mean closer tom median and it does and transformed feture of Na_to_K seems to be evenly nomrally distributed.\n",
    " "
   ]
  },
  {
   "cell_type": "markdown",
   "id": "e6378bce",
   "metadata": {},
   "source": [
    "### 2.2 Explainatory Continuous Variable : Bi-variate Analysis"
   ]
  },
  {
   "cell_type": "code",
   "execution_count": 13,
   "id": "f3d6585d",
   "metadata": {},
   "outputs": [
    {
     "data": {
      "text/plain": [
       "<Figure size 1080x864 with 0 Axes>"
      ]
     },
     "metadata": {},
     "output_type": "display_data"
    },
    {
     "data": {
      "image/png": "[encoded data removed]",
      "text/plain": [
       "<Figure size 180x180 with 1 Axes>"
      ]
     },
     "metadata": {
      "needs_background": "light"
     },
     "output_type": "display_data"
    }
   ],
   "source": [
    "plt.figure(figsize=(15,12))\n",
    "sns.pairplot(data=df_drug,x_vars=['Age'],y_vars=['Na_to_K_log'])\n",
    "plt.tight_layout()\n",
    "plt.show()"
   ]
  },
  {
   "cell_type": "code",
   "execution_count": 14,
   "id": "8c1ebbdf",
   "metadata": {},
   "outputs": [
    {
     "data": {
      "text/html": [
       "<div>\n",
       "<style scoped>\n",
       "    .dataframe tbody tr th:only-of-type {\n",
       "        vertical-align: middle;\n",
       "    }\n",
       "\n",
       "    .dataframe tbody tr th {\n",
       "        vertical-align: top;\n",
       "    }\n",
       "\n",
       "    .dataframe thead th {\n",
       "        text-align: right;\n",
       "    }\n",
       "</style>\n",
       "<table border=\"1\" class=\"dataframe\">\n",
       "  <thead>\n",
       "    <tr style=\"text-align: right;\">\n",
       "      <th></th>\n",
       "      <th>Id</th>\n",
       "      <th>Age</th>\n",
       "      <th>Na_to_K</th>\n",
       "      <th>Na_to_K_log</th>\n",
       "    </tr>\n",
       "  </thead>\n",
       "  <tbody>\n",
       "    <tr>\n",
       "      <th>Id</th>\n",
       "      <td>1.00000</td>\n",
       "      <td>0.02532</td>\n",
       "      <td>-0.02332</td>\n",
       "      <td>-0.04201</td>\n",
       "    </tr>\n",
       "    <tr>\n",
       "      <th>Age</th>\n",
       "      <td>0.02532</td>\n",
       "      <td>1.00000</td>\n",
       "      <td>-0.04236</td>\n",
       "      <td>-0.02121</td>\n",
       "    </tr>\n",
       "    <tr>\n",
       "      <th>Na_to_K</th>\n",
       "      <td>-0.02332</td>\n",
       "      <td>-0.04236</td>\n",
       "      <td>1.00000</td>\n",
       "      <td>0.97432</td>\n",
       "    </tr>\n",
       "    <tr>\n",
       "      <th>Na_to_K_log</th>\n",
       "      <td>-0.04201</td>\n",
       "      <td>-0.02121</td>\n",
       "      <td>0.97432</td>\n",
       "      <td>1.00000</td>\n",
       "    </tr>\n",
       "  </tbody>\n",
       "</table>\n",
       "</div>"
      ],
      "text/plain": [
       "                  Id      Age  Na_to_K  Na_to_K_log\n",
       "Id           1.00000  0.02532 -0.02332     -0.04201\n",
       "Age          0.02532  1.00000 -0.04236     -0.02121\n",
       "Na_to_K     -0.02332 -0.04236  1.00000      0.97432\n",
       "Na_to_K_log -0.04201 -0.02121  0.97432      1.00000"
      ]
     },
     "execution_count": 14,
     "metadata": {},
     "output_type": "execute_result"
    }
   ],
   "source": [
    "df_drug.corr()"
   ]
  },
  {
   "cell_type": "markdown",
   "id": "d6cce964",
   "metadata": {},
   "source": [
    "1. From above pair plot and corr function result data we can conclude that there is no co-relation between Age and Na_to_K or Age and Na_to_K_log"
   ]
  },
  {
   "cell_type": "markdown",
   "id": "c78c60b9",
   "metadata": {},
   "source": [
    "### 2.2 Explainatory Categorical Univariate Analysis"
   ]
  },
  {
   "cell_type": "code",
   "execution_count": 15,
   "id": "8a15f2d8",
   "metadata": {},
   "outputs": [
    {
     "data": {
      "image/png": "[encoded data removed]",
      "text/plain": [
       "<Figure size 1296x360 with 3 Axes>"
      ]
     },
     "metadata": {
      "needs_background": "light"
     },
     "output_type": "display_data"
    }
   ],
   "source": [
    "plt.figure(figsize=(18,5))\n",
    "\n",
    "plt.subplot(1,3,1)\n",
    "#sns.countplot(df_drug[\"Sex\"])\n",
    "plotSNSCountWithPerc(df_drug,\"Sex\")\n",
    "    \n",
    "\n",
    "plt.subplot(1,3,2)\n",
    "# sns.countplot(df_drug[\"BP\"])\n",
    "plotSNSCountWithPerc(df_drug,\"BP\")\n",
    "\n",
    "plt.subplot(1,3,3)\n",
    "#sns.countplot(df_drug[\"Cholesterol\"])\n",
    "plotSNSCountWithPerc(df_drug,\"Cholesterol\")\n",
    "\n",
    "plt.show()"
   ]
  },
  {
   "cell_type": "markdown",
   "id": "a43c8eb7",
   "metadata": {},
   "source": [
    "1. Sex,BP & Cholesterol : Data is mostly Balanced"
   ]
  },
  {
   "cell_type": "markdown",
   "id": "f143a432",
   "metadata": {},
   "source": [
    "### 2.3 Explainatory Variable Bivariate Analysis"
   ]
  },
  {
   "cell_type": "code",
   "execution_count": 16,
   "id": "76a160d1",
   "metadata": {},
   "outputs": [
    {
     "data": {
      "text/plain": [
       "<Figure size 720x720 with 0 Axes>"
      ]
     },
     "metadata": {},
     "output_type": "display_data"
    },
    {
     "data": {
      "image/png": "[encoded data removed]",
      "text/plain": [
       "<Figure size 426.625x360 with 6 Axes>"
      ]
     },
     "metadata": {
      "needs_background": "light"
     },
     "output_type": "display_data"
    }
   ],
   "source": [
    "plt.figure(figsize=(10,10))\n",
    "\n",
    "sns.pairplot(df_drug.loc[:,df_drug.columns[df_drug.columns !='Id'] & \\\n",
    "                         df_drug.columns[df_drug.columns !='Na_to_K']],hue='Drug')\n",
    "plt.show()"
   ]
  },
  {
   "cell_type": "markdown",
   "id": "4888c231",
   "metadata": {},
   "source": [
    "1. When Na_to_K is moderate(near mean,20) to high DrugY is prescribed . While it is below mean other drugs mostly drugX,A,C,B is prescribed across all age spectrum(range)"
   ]
  },
  {
   "cell_type": "code",
   "execution_count": 17,
   "id": "01960259",
   "metadata": {},
   "outputs": [
    {
     "data": {
      "image/png": "[encoded data removed]",
      "text/plain": [
       "<Figure size 1080x360 with 2 Axes>"
      ]
     },
     "metadata": {
      "needs_background": "light"
     },
     "output_type": "display_data"
    }
   ],
   "source": [
    "plt.figure(figsize=(15,5))\n",
    "\n",
    "plt.subplot(1,2,1)\n",
    "sns.swarmplot(x='Drug',y='Na_to_K', data=df_drug ,palette = 'Set2')\n",
    "\n",
    "plt.subplot(1,2,2)\n",
    "sns.swarmplot(x='Drug',y='Age', data=df_drug ,palette = 'Set2')\n",
    "plt.show()"
   ]
  },
  {
   "cell_type": "markdown",
   "id": "c54f6729",
   "metadata": {},
   "source": [
    "1. \"drugY\" is assigned for patients with high Na_to_K values\n",
    "\n",
    "2. \"druA\" is assigned to age below 50 years\n",
    "\n",
    "3. \"drugB\" is assigned to patient above 50 years"
   ]
  },
  {
   "cell_type": "code",
   "execution_count": 18,
   "id": "1eab6376",
   "metadata": {},
   "outputs": [
    {
     "data": {
      "text/plain": [
       "<Figure size 1080x360 with 0 Axes>"
      ]
     },
     "metadata": {},
     "output_type": "display_data"
    },
    {
     "data": {
      "image/png": "[encoded data removed]",
      "text/plain": [
       "<Figure size 360x360 with 1 Axes>"
      ]
     },
     "metadata": {
      "needs_background": "light"
     },
     "output_type": "display_data"
    }
   ],
   "source": [
    "plt.figure(figsize=(15,5))\n",
    "#plt.subplot(1,2,1)\n",
    "sns.catplot(x = 'BP' , y = 'Drug' , data = df_drug , kind=\"swarm\" , palette ='Spectral')\n",
    "plt.show()"
   ]
  },
  {
   "cell_type": "markdown",
   "id": "c914c1c7",
   "metadata": {},
   "source": [
    "1. \"drugB\",\"drugA\" & \"drugY\" is prescribed to HIGH BP patients\n",
    "\n",
    "\n",
    "2. \"drugX\" & \"drugY\" is prescribed to NORMAL BP patients\n",
    "\n",
    "\n",
    "3. \"drugX\", \"drugC\" & \"drugY\" is prescribed to LOW BP patients\n",
    "\n",
    "\n"
   ]
  },
  {
   "cell_type": "code",
   "execution_count": 19,
   "id": "957ba0dc",
   "metadata": {},
   "outputs": [
    {
     "data": {
      "text/plain": [
       "<Figure size 1080x360 with 0 Axes>"
      ]
     },
     "metadata": {},
     "output_type": "display_data"
    },
    {
     "data": {
      "image/png": "[encoded data removed]",
      "text/plain": [
       "<Figure size 360x360 with 1 Axes>"
      ]
     },
     "metadata": {
      "needs_background": "light"
     },
     "output_type": "display_data"
    }
   ],
   "source": [
    "plt.figure(figsize=(15,5))\n",
    "\n",
    "sns.catplot(x = 'Cholesterol' , y = 'Drug' , data = df_drug , kind=\"swarm\" , palette ='Spectral')\n",
    "plt.show()"
   ]
  },
  {
   "cell_type": "markdown",
   "id": "486f2bd2",
   "metadata": {},
   "source": [
    "1. \"drugX\", \"drugB\",\"drugA\" & \"drugY\" is prescribed to NORMAL Cholesterol Patient\n",
    "\n",
    "\n",
    "2. \"drugX\", \"drugB\",\"drugA\",\"drugY\" & \"drugC\" is prescribed to HIGH Cholesterol Patient"
   ]
  },
  {
   "cell_type": "markdown",
   "id": "83059d6f",
   "metadata": {},
   "source": [
    "## 3. Data Preprocessing"
   ]
  },
  {
   "cell_type": "code",
   "execution_count": 20,
   "id": "c96960b8",
   "metadata": {},
   "outputs": [],
   "source": [
    "\n",
    "# This generalised function to Fit and transform given feature with given dataset to label encode\n",
    "# this will return label encoded dataset along \n",
    "# with label classes and encoder object (This may be use to only transform another dataset say test )\n",
    "\n",
    "from sklearn.preprocessing import LabelEncoder\n",
    "def LE_FitTransform(featurename:str,dataset:pd)-> [pd,str,LabelEncoder]:\n",
    "    \n",
    "    from sklearn.preprocessing import LabelEncoder\n",
    "     \n",
    "    \n",
    "    X = dataset.copy()\n",
    "    \n",
    "    #Step 1: Make list of input Feature name list along with its Label Category Column Name\n",
    "    cat_col = [featurename] # 'BP'/'Cholesterol'/'Sex'\n",
    "    cat_col_lbltr = cat_col[0] + '_LABEL_ENCODE'\n",
    "    \n",
    "    # Step2: Make Dtaframe from input dataframe assume passed feature is present in passed dataframe\n",
    "    X_cat_col = X[cat_col]\n",
    "    #display(X_cat_col)\n",
    "    \n",
    "    # Step2:  creating instance of labelencoder\n",
    "    labelencoder = LabelEncoder()\n",
    "    \n",
    "    #X_cat_col[cat_col_lbltr] = labelencoder.fit_transform(X_cat_col)\n",
    "    labelencoder.fit(X_cat_col)\n",
    "    X_cat_col[cat_col_lbltr] = labelencoder.transform(X_cat_col)\n",
    "    # display(X_cat_col.head(10))\n",
    "    # print(labelencoder.classes_)\n",
    "    \n",
    "    # Get distinct class labels in category column\n",
    "    lbl_classes = labelencoder.classes_\n",
    "    \n",
    "    # this will Post fix column name with each class value e.g HIGH_BP/LOW_BP etc.\n",
    "    string = '_' + cat_col[0] \n",
    "    lbl_classes_withcolname = list(map(lambda orig_string: orig_string + string, lbl_classes))\n",
    "\n",
    "    \n",
    "    \n",
    "    X = X.join(X_cat_col[cat_col_lbltr])\n",
    "    \n",
    "    return [X,lbl_classes_withcolname,labelencoder]\n",
    "  "
   ]
  },
  {
   "cell_type": "code",
   "execution_count": 21,
   "id": "101c6459",
   "metadata": {},
   "outputs": [],
   "source": [
    "# Label Encoding of Target variable \n",
    "temp = []\n",
    "for i in df_drug.Drug:\n",
    "    if i == 'drugX':\n",
    "        temp.append(0)\n",
    "    elif i =='DrugY':\n",
    "      temp.append(1)\n",
    "    elif i =='drugC':\n",
    "      temp.append(2)\n",
    "    elif i =='drugA':\n",
    "      temp.append(3)\n",
    "    elif i =='drugB':\n",
    "      temp.append(4)\n",
    "        \n",
    "df_drug['Drug_LABEL_ENCODE'] = temp\n",
    "#df_drug.drop(['Drug'],axis=1,inplace=True)\n",
    "labelencoder_target = ['drugX','DrugY','drugC','drugA','drugB']"
   ]
  },
  {
   "cell_type": "code",
   "execution_count": 22,
   "id": "41b75a6a",
   "metadata": {},
   "outputs": [
    {
     "data": {
      "text/html": [
       "<div>\n",
       "<style scoped>\n",
       "    .dataframe tbody tr th:only-of-type {\n",
       "        vertical-align: middle;\n",
       "    }\n",
       "\n",
       "    .dataframe tbody tr th {\n",
       "        vertical-align: top;\n",
       "    }\n",
       "\n",
       "    .dataframe thead th {\n",
       "        text-align: right;\n",
       "    }\n",
       "</style>\n",
       "<table border=\"1\" class=\"dataframe\">\n",
       "  <thead>\n",
       "    <tr style=\"text-align: right;\">\n",
       "      <th></th>\n",
       "      <th>Id</th>\n",
       "      <th>Age</th>\n",
       "      <th>Sex</th>\n",
       "      <th>BP</th>\n",
       "      <th>Cholesterol</th>\n",
       "      <th>Na_to_K</th>\n",
       "      <th>Drug</th>\n",
       "      <th>Na_to_K_log</th>\n",
       "      <th>Drug_LABEL_ENCODE</th>\n",
       "    </tr>\n",
       "  </thead>\n",
       "  <tbody>\n",
       "    <tr>\n",
       "      <th>0</th>\n",
       "      <td>79</td>\n",
       "      <td>32</td>\n",
       "      <td>F</td>\n",
       "      <td>LOW</td>\n",
       "      <td>NORMAL</td>\n",
       "      <td>10.84000</td>\n",
       "      <td>drugX</td>\n",
       "      <td>2.38324</td>\n",
       "      <td>0</td>\n",
       "    </tr>\n",
       "    <tr>\n",
       "      <th>1</th>\n",
       "      <td>197</td>\n",
       "      <td>52</td>\n",
       "      <td>M</td>\n",
       "      <td>NORMAL</td>\n",
       "      <td>HIGH</td>\n",
       "      <td>9.89400</td>\n",
       "      <td>drugX</td>\n",
       "      <td>2.29193</td>\n",
       "      <td>0</td>\n",
       "    </tr>\n",
       "    <tr>\n",
       "      <th>2</th>\n",
       "      <td>38</td>\n",
       "      <td>39</td>\n",
       "      <td>F</td>\n",
       "      <td>NORMAL</td>\n",
       "      <td>NORMAL</td>\n",
       "      <td>9.70900</td>\n",
       "      <td>drugX</td>\n",
       "      <td>2.27305</td>\n",
       "      <td>0</td>\n",
       "    </tr>\n",
       "    <tr>\n",
       "      <th>3</th>\n",
       "      <td>24</td>\n",
       "      <td>33</td>\n",
       "      <td>F</td>\n",
       "      <td>LOW</td>\n",
       "      <td>HIGH</td>\n",
       "      <td>33.48600</td>\n",
       "      <td>DrugY</td>\n",
       "      <td>3.51113</td>\n",
       "      <td>1</td>\n",
       "    </tr>\n",
       "    <tr>\n",
       "      <th>4</th>\n",
       "      <td>122</td>\n",
       "      <td>34</td>\n",
       "      <td>M</td>\n",
       "      <td>NORMAL</td>\n",
       "      <td>HIGH</td>\n",
       "      <td>22.45600</td>\n",
       "      <td>DrugY</td>\n",
       "      <td>3.11156</td>\n",
       "      <td>1</td>\n",
       "    </tr>\n",
       "    <tr>\n",
       "      <th>5</th>\n",
       "      <td>195</td>\n",
       "      <td>56</td>\n",
       "      <td>F</td>\n",
       "      <td>LOW</td>\n",
       "      <td>HIGH</td>\n",
       "      <td>11.56700</td>\n",
       "      <td>drugC</td>\n",
       "      <td>2.44816</td>\n",
       "      <td>2</td>\n",
       "    </tr>\n",
       "    <tr>\n",
       "      <th>6</th>\n",
       "      <td>29</td>\n",
       "      <td>45</td>\n",
       "      <td>M</td>\n",
       "      <td>LOW</td>\n",
       "      <td>HIGH</td>\n",
       "      <td>17.95100</td>\n",
       "      <td>DrugY</td>\n",
       "      <td>2.88765</td>\n",
       "      <td>1</td>\n",
       "    </tr>\n",
       "    <tr>\n",
       "      <th>7</th>\n",
       "      <td>19</td>\n",
       "      <td>32</td>\n",
       "      <td>F</td>\n",
       "      <td>HIGH</td>\n",
       "      <td>NORMAL</td>\n",
       "      <td>25.97400</td>\n",
       "      <td>DrugY</td>\n",
       "      <td>3.25710</td>\n",
       "      <td>1</td>\n",
       "    </tr>\n",
       "    <tr>\n",
       "      <th>8</th>\n",
       "      <td>143</td>\n",
       "      <td>74</td>\n",
       "      <td>M</td>\n",
       "      <td>HIGH</td>\n",
       "      <td>NORMAL</td>\n",
       "      <td>15.43600</td>\n",
       "      <td>DrugY</td>\n",
       "      <td>2.73670</td>\n",
       "      <td>1</td>\n",
       "    </tr>\n",
       "    <tr>\n",
       "      <th>9</th>\n",
       "      <td>86</td>\n",
       "      <td>51</td>\n",
       "      <td>F</td>\n",
       "      <td>NORMAL</td>\n",
       "      <td>HIGH</td>\n",
       "      <td>13.59700</td>\n",
       "      <td>drugX</td>\n",
       "      <td>2.60985</td>\n",
       "      <td>0</td>\n",
       "    </tr>\n",
       "    <tr>\n",
       "      <th>10</th>\n",
       "      <td>114</td>\n",
       "      <td>20</td>\n",
       "      <td>F</td>\n",
       "      <td>NORMAL</td>\n",
       "      <td>NORMAL</td>\n",
       "      <td>9.28100</td>\n",
       "      <td>drugX</td>\n",
       "      <td>2.22797</td>\n",
       "      <td>0</td>\n",
       "    </tr>\n",
       "    <tr>\n",
       "      <th>11</th>\n",
       "      <td>173</td>\n",
       "      <td>41</td>\n",
       "      <td>F</td>\n",
       "      <td>LOW</td>\n",
       "      <td>NORMAL</td>\n",
       "      <td>18.73900</td>\n",
       "      <td>DrugY</td>\n",
       "      <td>2.93061</td>\n",
       "      <td>1</td>\n",
       "    </tr>\n",
       "    <tr>\n",
       "      <th>12</th>\n",
       "      <td>5</td>\n",
       "      <td>22</td>\n",
       "      <td>F</td>\n",
       "      <td>NORMAL</td>\n",
       "      <td>HIGH</td>\n",
       "      <td>8.60700</td>\n",
       "      <td>drugX</td>\n",
       "      <td>2.15258</td>\n",
       "      <td>0</td>\n",
       "    </tr>\n",
       "    <tr>\n",
       "      <th>13</th>\n",
       "      <td>126</td>\n",
       "      <td>66</td>\n",
       "      <td>M</td>\n",
       "      <td>HIGH</td>\n",
       "      <td>HIGH</td>\n",
       "      <td>16.34700</td>\n",
       "      <td>DrugY</td>\n",
       "      <td>2.79404</td>\n",
       "      <td>1</td>\n",
       "    </tr>\n",
       "    <tr>\n",
       "      <th>14</th>\n",
       "      <td>117</td>\n",
       "      <td>40</td>\n",
       "      <td>F</td>\n",
       "      <td>NORMAL</td>\n",
       "      <td>HIGH</td>\n",
       "      <td>10.10300</td>\n",
       "      <td>drugX</td>\n",
       "      <td>2.31283</td>\n",
       "      <td>0</td>\n",
       "    </tr>\n",
       "  </tbody>\n",
       "</table>\n",
       "</div>"
      ],
      "text/plain": [
       "     Id  Age Sex      BP Cholesterol  Na_to_K   Drug  Na_to_K_log  \\\n",
       "0    79   32   F     LOW      NORMAL 10.84000  drugX      2.38324   \n",
       "1   197   52   M  NORMAL        HIGH  9.89400  drugX      2.29193   \n",
       "2    38   39   F  NORMAL      NORMAL  9.70900  drugX      2.27305   \n",
       "3    24   33   F     LOW        HIGH 33.48600  DrugY      3.51113   \n",
       "4   122   34   M  NORMAL        HIGH 22.45600  DrugY      3.11156   \n",
       "5   195   56   F     LOW        HIGH 11.56700  drugC      2.44816   \n",
       "6    29   45   M     LOW        HIGH 17.95100  DrugY      2.88765   \n",
       "7    19   32   F    HIGH      NORMAL 25.97400  DrugY      3.25710   \n",
       "8   143   74   M    HIGH      NORMAL 15.43600  DrugY      2.73670   \n",
       "9    86   51   F  NORMAL        HIGH 13.59700  drugX      2.60985   \n",
       "10  114   20   F  NORMAL      NORMAL  9.28100  drugX      2.22797   \n",
       "11  173   41   F     LOW      NORMAL 18.73900  DrugY      2.93061   \n",
       "12    5   22   F  NORMAL        HIGH  8.60700  drugX      2.15258   \n",
       "13  126   66   M    HIGH        HIGH 16.34700  DrugY      2.79404   \n",
       "14  117   40   F  NORMAL        HIGH 10.10300  drugX      2.31283   \n",
       "\n",
       "    Drug_LABEL_ENCODE  \n",
       "0                   0  \n",
       "1                   0  \n",
       "2                   0  \n",
       "3                   1  \n",
       "4                   1  \n",
       "5                   2  \n",
       "6                   1  \n",
       "7                   1  \n",
       "8                   1  \n",
       "9                   0  \n",
       "10                  0  \n",
       "11                  1  \n",
       "12                  0  \n",
       "13                  1  \n",
       "14                  0  "
      ]
     },
     "execution_count": 22,
     "metadata": {},
     "output_type": "execute_result"
    }
   ],
   "source": [
    "df_drug.head(15)"
   ]
  },
  {
   "cell_type": "code",
   "execution_count": 23,
   "id": "fdacbcd5",
   "metadata": {},
   "outputs": [],
   "source": [
    "# Step 1: Create X & y variable dataset\n",
    "# Na_to_K_log\n",
    " \n",
    "X = df_drug.loc[:,df_drug.columns[df_drug.columns !='Id'] & \\\n",
    "                         df_drug.columns[df_drug.columns !='Na_to_K_log'] & \\\n",
    "               df_drug.columns[df_drug.columns !='Drug']]\n",
    "y_raw = (df_drug.loc[:,df_drug.columns[df_drug.columns =='Drug_LABEL_ENCODE']])\n",
    "#y_raw = (df_drug.loc[:,df_drug.columns[df_drug.columns =='Drug']])"
   ]
  },
  {
   "cell_type": "code",
   "execution_count": 24,
   "id": "99cea757",
   "metadata": {},
   "outputs": [
    {
     "data": {
      "text/html": [
       "<div>\n",
       "<style scoped>\n",
       "    .dataframe tbody tr th:only-of-type {\n",
       "        vertical-align: middle;\n",
       "    }\n",
       "\n",
       "    .dataframe tbody tr th {\n",
       "        vertical-align: top;\n",
       "    }\n",
       "\n",
       "    .dataframe thead th {\n",
       "        text-align: right;\n",
       "    }\n",
       "</style>\n",
       "<table border=\"1\" class=\"dataframe\">\n",
       "  <thead>\n",
       "    <tr style=\"text-align: right;\">\n",
       "      <th></th>\n",
       "      <th>Age</th>\n",
       "      <th>Sex</th>\n",
       "      <th>BP</th>\n",
       "      <th>Cholesterol</th>\n",
       "      <th>Na_to_K</th>\n",
       "      <th>Drug_LABEL_ENCODE</th>\n",
       "    </tr>\n",
       "  </thead>\n",
       "  <tbody>\n",
       "    <tr>\n",
       "      <th>0</th>\n",
       "      <td>32</td>\n",
       "      <td>F</td>\n",
       "      <td>LOW</td>\n",
       "      <td>NORMAL</td>\n",
       "      <td>10.84000</td>\n",
       "      <td>0</td>\n",
       "    </tr>\n",
       "    <tr>\n",
       "      <th>1</th>\n",
       "      <td>52</td>\n",
       "      <td>M</td>\n",
       "      <td>NORMAL</td>\n",
       "      <td>HIGH</td>\n",
       "      <td>9.89400</td>\n",
       "      <td>0</td>\n",
       "    </tr>\n",
       "    <tr>\n",
       "      <th>2</th>\n",
       "      <td>39</td>\n",
       "      <td>F</td>\n",
       "      <td>NORMAL</td>\n",
       "      <td>NORMAL</td>\n",
       "      <td>9.70900</td>\n",
       "      <td>0</td>\n",
       "    </tr>\n",
       "  </tbody>\n",
       "</table>\n",
       "</div>"
      ],
      "text/plain": [
       "   Age Sex      BP Cholesterol  Na_to_K  Drug_LABEL_ENCODE\n",
       "0   32   F     LOW      NORMAL 10.84000                  0\n",
       "1   52   M  NORMAL        HIGH  9.89400                  0\n",
       "2   39   F  NORMAL      NORMAL  9.70900                  0"
      ]
     },
     "metadata": {},
     "output_type": "display_data"
    },
    {
     "data": {
      "text/html": [
       "<div>\n",
       "<style scoped>\n",
       "    .dataframe tbody tr th:only-of-type {\n",
       "        vertical-align: middle;\n",
       "    }\n",
       "\n",
       "    .dataframe tbody tr th {\n",
       "        vertical-align: top;\n",
       "    }\n",
       "\n",
       "    .dataframe thead th {\n",
       "        text-align: right;\n",
       "    }\n",
       "</style>\n",
       "<table border=\"1\" class=\"dataframe\">\n",
       "  <thead>\n",
       "    <tr style=\"text-align: right;\">\n",
       "      <th></th>\n",
       "      <th>Drug_LABEL_ENCODE</th>\n",
       "    </tr>\n",
       "  </thead>\n",
       "  <tbody>\n",
       "    <tr>\n",
       "      <th>0</th>\n",
       "      <td>0</td>\n",
       "    </tr>\n",
       "    <tr>\n",
       "      <th>1</th>\n",
       "      <td>0</td>\n",
       "    </tr>\n",
       "    <tr>\n",
       "      <th>2</th>\n",
       "      <td>0</td>\n",
       "    </tr>\n",
       "  </tbody>\n",
       "</table>\n",
       "</div>"
      ],
      "text/plain": [
       "   Drug_LABEL_ENCODE\n",
       "0                  0\n",
       "1                  0\n",
       "2                  0"
      ]
     },
     "metadata": {},
     "output_type": "display_data"
    }
   ],
   "source": [
    "display((X.head(3)))\n",
    "display((y_raw.head(3)))\n",
    "# display((y.head(3)))"
   ]
  },
  {
   "cell_type": "code",
   "execution_count": 25,
   "id": "c129621c",
   "metadata": {
    "scrolled": true
   },
   "outputs": [
    {
     "data": {
      "text/html": [
       "<div>\n",
       "<style scoped>\n",
       "    .dataframe tbody tr th:only-of-type {\n",
       "        vertical-align: middle;\n",
       "    }\n",
       "\n",
       "    .dataframe tbody tr th {\n",
       "        vertical-align: top;\n",
       "    }\n",
       "\n",
       "    .dataframe thead th {\n",
       "        text-align: right;\n",
       "    }\n",
       "</style>\n",
       "<table border=\"1\" class=\"dataframe\">\n",
       "  <thead>\n",
       "    <tr style=\"text-align: right;\">\n",
       "      <th></th>\n",
       "      <th>Drug_LABEL_ENCODE</th>\n",
       "    </tr>\n",
       "  </thead>\n",
       "  <tbody>\n",
       "    <tr>\n",
       "      <th>0</th>\n",
       "      <td>0</td>\n",
       "    </tr>\n",
       "    <tr>\n",
       "      <th>1</th>\n",
       "      <td>0</td>\n",
       "    </tr>\n",
       "    <tr>\n",
       "      <th>2</th>\n",
       "      <td>0</td>\n",
       "    </tr>\n",
       "    <tr>\n",
       "      <th>3</th>\n",
       "      <td>1</td>\n",
       "    </tr>\n",
       "    <tr>\n",
       "      <th>4</th>\n",
       "      <td>1</td>\n",
       "    </tr>\n",
       "  </tbody>\n",
       "</table>\n",
       "</div>"
      ],
      "text/plain": [
       "   Drug_LABEL_ENCODE\n",
       "0                  0\n",
       "1                  0\n",
       "2                  0\n",
       "3                  1\n",
       "4                  1"
      ]
     },
     "metadata": {},
     "output_type": "display_data"
    }
   ],
   "source": [
    "# Label Encoding of Target variable \n",
    "# Following line is commented as per feedback from INSAID \n",
    "# as they have fixed encoding for target given and it os applied in above code \n",
    "\n",
    "'''\n",
    "colname = 'Drug'\n",
    "y_int ,lbl_ec_feat_cls_target,labelencoder_target = \\\n",
    "                        LE_FitTransform(featurename= colname,dataset=y_raw)\n",
    "\n",
    "\n",
    "y =  pd.DataFrame(y_int.pop(\"Drug_LABEL_ENCODE\"))\n",
    "display(y.head(3))\n",
    "#print(lbl_ec_feat_cls_target)\n",
    "print(labelencoder_target.classes_)\n",
    "le_name_mapping = dict(zip(labelencoder_target.classes_, labelencoder_target.transform(labelencoder_target.classes_)))\n",
    "print(le_name_mapping)\n",
    "#labelencoder_target.\n",
    "\n",
    "'''\n",
    "\n",
    "y =  y_raw\n",
    "display(y.head())"
   ]
  },
  {
   "cell_type": "code",
   "execution_count": 26,
   "id": "b322a1e5",
   "metadata": {},
   "outputs": [
    {
     "data": {
      "text/html": [
       "<div>\n",
       "<style scoped>\n",
       "    .dataframe tbody tr th:only-of-type {\n",
       "        vertical-align: middle;\n",
       "    }\n",
       "\n",
       "    .dataframe tbody tr th {\n",
       "        vertical-align: top;\n",
       "    }\n",
       "\n",
       "    .dataframe thead th {\n",
       "        text-align: right;\n",
       "    }\n",
       "</style>\n",
       "<table border=\"1\" class=\"dataframe\">\n",
       "  <thead>\n",
       "    <tr style=\"text-align: right;\">\n",
       "      <th></th>\n",
       "      <th>Id</th>\n",
       "      <th>Age</th>\n",
       "      <th>Sex</th>\n",
       "      <th>BP</th>\n",
       "      <th>Cholesterol</th>\n",
       "      <th>Na_to_K</th>\n",
       "      <th>Na_to_K_log</th>\n",
       "    </tr>\n",
       "  </thead>\n",
       "  <tbody>\n",
       "    <tr>\n",
       "      <th>0</th>\n",
       "      <td>95</td>\n",
       "      <td>36</td>\n",
       "      <td>M</td>\n",
       "      <td>LOW</td>\n",
       "      <td>NORMAL</td>\n",
       "      <td>11.42400</td>\n",
       "      <td>2.43572</td>\n",
       "    </tr>\n",
       "    <tr>\n",
       "      <th>1</th>\n",
       "      <td>15</td>\n",
       "      <td>16</td>\n",
       "      <td>F</td>\n",
       "      <td>HIGH</td>\n",
       "      <td>NORMAL</td>\n",
       "      <td>15.51600</td>\n",
       "      <td>2.74187</td>\n",
       "    </tr>\n",
       "    <tr>\n",
       "      <th>2</th>\n",
       "      <td>30</td>\n",
       "      <td>18</td>\n",
       "      <td>F</td>\n",
       "      <td>NORMAL</td>\n",
       "      <td>NORMAL</td>\n",
       "      <td>8.75000</td>\n",
       "      <td>2.16905</td>\n",
       "    </tr>\n",
       "    <tr>\n",
       "      <th>3</th>\n",
       "      <td>158</td>\n",
       "      <td>59</td>\n",
       "      <td>F</td>\n",
       "      <td>LOW</td>\n",
       "      <td>HIGH</td>\n",
       "      <td>10.44400</td>\n",
       "      <td>2.34603</td>\n",
       "    </tr>\n",
       "    <tr>\n",
       "      <th>4</th>\n",
       "      <td>128</td>\n",
       "      <td>47</td>\n",
       "      <td>M</td>\n",
       "      <td>LOW</td>\n",
       "      <td>NORMAL</td>\n",
       "      <td>33.54200</td>\n",
       "      <td>3.51280</td>\n",
       "    </tr>\n",
       "  </tbody>\n",
       "</table>\n",
       "</div>"
      ],
      "text/plain": [
       "    Id  Age Sex      BP Cholesterol  Na_to_K  Na_to_K_log\n",
       "0   95   36   M     LOW      NORMAL 11.42400      2.43572\n",
       "1   15   16   F    HIGH      NORMAL 15.51600      2.74187\n",
       "2   30   18   F  NORMAL      NORMAL  8.75000      2.16905\n",
       "3  158   59   F     LOW        HIGH 10.44400      2.34603\n",
       "4  128   47   M     LOW      NORMAL 33.54200      3.51280"
      ]
     },
     "execution_count": 26,
     "metadata": {},
     "output_type": "execute_result"
    }
   ],
   "source": [
    "# Load submission test data . This will used in last step \n",
    "df_drug_prod = pd.read_csv(\"drug_test.csv\")\n",
    "df_drug_prod[\"Na_to_K_log\"] = np.log(df_drug_prod[\"Na_to_K\"])\n",
    "df_drug_prod.head()\n"
   ]
  },
  {
   "cell_type": "code",
   "execution_count": 27,
   "id": "bad5fd57",
   "metadata": {},
   "outputs": [],
   "source": [
    "\n",
    "X_Prod = df_drug_prod[['Age','Sex','BP','Cholesterol','Na_to_K']]\n",
    "# & df_drug.columns[df_drug.columns !='Drug']"
   ]
  },
  {
   "cell_type": "code",
   "execution_count": 28,
   "id": "eb58fe33",
   "metadata": {},
   "outputs": [
    {
     "data": {
      "text/html": [
       "<div>\n",
       "<style scoped>\n",
       "    .dataframe tbody tr th:only-of-type {\n",
       "        vertical-align: middle;\n",
       "    }\n",
       "\n",
       "    .dataframe tbody tr th {\n",
       "        vertical-align: top;\n",
       "    }\n",
       "\n",
       "    .dataframe thead th {\n",
       "        text-align: right;\n",
       "    }\n",
       "</style>\n",
       "<table border=\"1\" class=\"dataframe\">\n",
       "  <thead>\n",
       "    <tr style=\"text-align: right;\">\n",
       "      <th></th>\n",
       "      <th>Age</th>\n",
       "      <th>Sex</th>\n",
       "      <th>BP</th>\n",
       "      <th>Cholesterol</th>\n",
       "      <th>Na_to_K</th>\n",
       "    </tr>\n",
       "  </thead>\n",
       "  <tbody>\n",
       "    <tr>\n",
       "      <th>0</th>\n",
       "      <td>36</td>\n",
       "      <td>M</td>\n",
       "      <td>LOW</td>\n",
       "      <td>NORMAL</td>\n",
       "      <td>11.42400</td>\n",
       "    </tr>\n",
       "    <tr>\n",
       "      <th>1</th>\n",
       "      <td>16</td>\n",
       "      <td>F</td>\n",
       "      <td>HIGH</td>\n",
       "      <td>NORMAL</td>\n",
       "      <td>15.51600</td>\n",
       "    </tr>\n",
       "    <tr>\n",
       "      <th>2</th>\n",
       "      <td>18</td>\n",
       "      <td>F</td>\n",
       "      <td>NORMAL</td>\n",
       "      <td>NORMAL</td>\n",
       "      <td>8.75000</td>\n",
       "    </tr>\n",
       "    <tr>\n",
       "      <th>3</th>\n",
       "      <td>59</td>\n",
       "      <td>F</td>\n",
       "      <td>LOW</td>\n",
       "      <td>HIGH</td>\n",
       "      <td>10.44400</td>\n",
       "    </tr>\n",
       "    <tr>\n",
       "      <th>4</th>\n",
       "      <td>47</td>\n",
       "      <td>M</td>\n",
       "      <td>LOW</td>\n",
       "      <td>NORMAL</td>\n",
       "      <td>33.54200</td>\n",
       "    </tr>\n",
       "  </tbody>\n",
       "</table>\n",
       "</div>"
      ],
      "text/plain": [
       "   Age Sex      BP Cholesterol  Na_to_K\n",
       "0   36   M     LOW      NORMAL 11.42400\n",
       "1   16   F    HIGH      NORMAL 15.51600\n",
       "2   18   F  NORMAL      NORMAL  8.75000\n",
       "3   59   F     LOW        HIGH 10.44400\n",
       "4   47   M     LOW      NORMAL 33.54200"
      ]
     },
     "execution_count": 28,
     "metadata": {},
     "output_type": "execute_result"
    }
   ],
   "source": [
    "#X.head()\n",
    "X_Prod.head()"
   ]
  },
  {
   "cell_type": "code",
   "execution_count": 29,
   "id": "fcc83e08",
   "metadata": {},
   "outputs": [
    {
     "name": "stdout",
     "output_type": "stream",
     "text": [
      "Index(['Age', 'Sex', 'BP', 'Cholesterol', 'Na_to_K'], dtype='object')\n",
      "Index(['Age', 'Sex', 'BP', 'Cholesterol', 'Na_to_K', 'Drug_LABEL_ENCODE'], dtype='object')\n"
     ]
    }
   ],
   "source": [
    "print(X_Prod.columns)\n",
    "print(X.columns)"
   ]
  },
  {
   "cell_type": "code",
   "execution_count": 30,
   "id": "5c1e7704",
   "metadata": {},
   "outputs": [],
   "source": [
    "# This generalised function to only transform given feature with given dataset \n",
    "# This will label encode given dataset (say train) and return encoder object and encoded data as well.\n",
    "# This Encoded object can be used to transform another dataset say test \n",
    "\n",
    "from sklearn.preprocessing import LabelEncoder\n",
    "def LE_Transform(featurename:str,dataset:pd,labelencoder:LabelEncoder)-> [pd,str]:\n",
    "    \n",
    "    from sklearn.preprocessing import LabelEncoder\n",
    "     \n",
    "    \n",
    "    X = dataset.copy()\n",
    "    \n",
    "    #Step 1: Make list of input Feature name list along with its Label Category Column Name\n",
    "    cat_col = [featurename] # 'BP'/'Cholesterol'/'Sex'\n",
    "    cat_col_lbltr = cat_col[0] + '_LABEL_ENCODE'\n",
    "    \n",
    "    # Step2: Make Dtaframe from input dataframe assume passed feature is present in passed dataframe\n",
    "    X_cat_col = X[cat_col]\n",
    "    #display(X_cat_col)\n",
    "    \n",
    "    # Step2:  creating instance of labelencoder\n",
    "    #labelencoder = LabelEncoder()\n",
    "    \n",
    "    #X_cat_col[cat_col_lbltr] = labelencoder.fit_transform(X_cat_col)\n",
    "    X_cat_col[cat_col_lbltr] = labelencoder.transform(X_cat_col)\n",
    "    \n",
    "    \n",
    "    # display(X_cat_col.head(10))\n",
    "    # print(labelencoder.classes_)\n",
    "    \n",
    "    # Get distinct class labels in category column\n",
    "    lbl_classes = labelencoder.classes_\n",
    "    \n",
    "    # this will Post fix column name with each class value e.g HIGH_BP/LOW_BP etc.\n",
    "    string = '_' + cat_col[0] \n",
    "    lbl_classes_withcolname = list(map(lambda orig_string: orig_string + string, lbl_classes))\n",
    "\n",
    "    \n",
    "    \n",
    "    X = X.join(X_cat_col[cat_col_lbltr])\n",
    "    \n",
    "    return [X,lbl_classes_withcolname]"
   ]
  },
  {
   "cell_type": "code",
   "execution_count": 31,
   "id": "6994733e",
   "metadata": {},
   "outputs": [
    {
     "data": {
      "text/plain": [
       "['M_Sex']"
      ]
     },
     "execution_count": 31,
     "metadata": {},
     "output_type": "execute_result"
    }
   ],
   "source": [
    "l1 = ['F_Sex','M_Sex']\n",
    "l2= l1[1:]\n",
    "l2"
   ]
  },
  {
   "cell_type": "code",
   "execution_count": 32,
   "id": "ceb0c990",
   "metadata": {
    "scrolled": true
   },
   "outputs": [],
   "source": [
    " # Note : \n",
    "    #      OneHotEncoder from SciKit library only takes numerical categorical values\n",
    "    #      Hence any value of string type should be label encoded before one hot encoded\n",
    "    # Reference:\n",
    "    \n",
    "\n",
    "# This generalised function to Fit and transform given feature with given dataset \n",
    "# This will One hot encode given dataset (say train) and return one hot encoder object and encoded data as well.\n",
    "# This Encoded object can be used to transform another dataset say test \n",
    "# This is for Train Dataset \n",
    "from sklearn.preprocessing import OneHotEncoder\n",
    "def OHE_FitTransform(featurename:str,lbl_ec_dataset:pd,label_encoded_feature_classes:[])-> [pd,OneHotEncoder]:\n",
    "    \n",
    "    #from sklearn.preprocessing import LabelEncoder\n",
    "    from sklearn.preprocessing import OneHotEncoder\n",
    "    \n",
    "    X = lbl_ec_dataset.copy()\n",
    "\n",
    "    col_list = [featurename] #['BP','Cholesterol','Sex']\n",
    "    for col in col_list:\n",
    "        cat_col = [col] # BP\n",
    "        cat_col_lbltr = cat_col[0] + '_LABEL_ENCODE'\n",
    "\n",
    "        #X_cat_col = pd.DataFrame(X[[cat_col[0],cat_col_lbltr]])\n",
    "        X_cat_col = pd.DataFrame(X[cat_col_lbltr])\n",
    "\n",
    "        # creating instance of one-hot-encoder\n",
    "        enc = OneHotEncoder(handle_unknown='error',drop='first') # ignore\n",
    "\n",
    "        #enc_df = pd.DataFrame(enc.fit_transform(X_cat_col[[cat_col_lbltr]]).toarray())\n",
    "        enc.fit(X_cat_col[[cat_col_lbltr]])\n",
    "\n",
    "        enc_df = pd.DataFrame(enc.transform(X_cat_col[[cat_col_lbltr]]).toarray())\n",
    "        \n",
    "        # One-hot encoding removed index; put it back\n",
    "        enc_df.index = X_cat_col.index\n",
    "\n",
    "        # Stores list of newly formed features\n",
    "        cat_labels_new = list(enc.get_feature_names())\n",
    "\n",
    "        enc_cols = enc_df.columns.to_list()\n",
    "        #label_encoded_feature_classes\n",
    "        # drop the first feature name from clas label list as we have mentioned drop=first in fit call\n",
    "        label_encoded_feature_classes2 = label_encoded_feature_classes[1:]\n",
    "        \n",
    "        #columns_dict = dict(zip(enc_cols,lbl_classes2))\n",
    "        columns_dict = dict(zip(enc_cols,label_encoded_feature_classes2))\n",
    "        \n",
    "        #print(columns_dict)\n",
    "        #display(enc_df.head())\n",
    "\n",
    "        enc_df.rename(columns = columns_dict,inplace=True)\n",
    "        # display(enc_df.head())\n",
    "\n",
    "        # merge with main df  on key values\n",
    "        X_cat_col = X_cat_col.join(enc_df)\n",
    "\n",
    "        #drop actual column in transition\n",
    "        #X_cat_col.drop(cat_col,axis=1,inplace=True)\n",
    "        X_cat_col.drop(cat_col_lbltr,axis=1,inplace=True)\n",
    "\n",
    "        X = X.join(X_cat_col)\n",
    "        # display(X_cat_col)\n",
    "\n",
    "        #X.head(8)\n",
    "    X.drop(cat_col_lbltr,axis=1,inplace=True)        \n",
    "    return [X,enc]\n"
   ]
  },
  {
   "cell_type": "code",
   "execution_count": 33,
   "id": "e07f8177",
   "metadata": {},
   "outputs": [],
   "source": [
    "\n",
    "# This generalised function to only transform given feature with given dataset \n",
    "\n",
    "from sklearn.preprocessing import OneHotEncoder\n",
    "# This is for Testdataset\n",
    "def OHE_Transform(featurename:str,lbl_ec_dataset_test:pd,label_encoded_feature_classes:[],obj_OHE:OneHotEncoder)-> [pd]:\n",
    "    \n",
    "    #from sklearn.preprocessing import LabelEncoder\n",
    "    #from sklearn.preprocessing import OneHotEncoder\n",
    "    \n",
    "    X = lbl_ec_dataset_test.copy()\n",
    "\n",
    "    col_list = [featurename] #['BP','Cholesterol','Sex']\n",
    "    for col in col_list:\n",
    "        cat_col = [col] # BP\n",
    "        cat_col_lbltr = cat_col[0] + '_LABEL_ENCODE'\n",
    "\n",
    "        #X_cat_col = pd.DataFrame(X[[cat_col[0],cat_col_lbltr]])\n",
    "        X_cat_col = pd.DataFrame(X[cat_col_lbltr])\n",
    "\n",
    "\n",
    "        # creating instance of one-hot-encoder\n",
    "        enc = obj_OHE # OneHotEncoder(handle_unknown='ignore')\n",
    "\n",
    "\n",
    "        #enc_df = pd.DataFrame(enc.fit_transform(X_cat_col[[cat_col_lbltr]]).toarray())\n",
    "        # enc.fit(X_cat_col[[cat_col_lbltr]])\n",
    "        \n",
    "        #display(X_cat_col[[cat_col_lbltr]])\n",
    "        \n",
    "        enc_df = pd.DataFrame(obj_OHE.transform(X_cat_col[[cat_col_lbltr]]).toarray())\n",
    "        \n",
    "        # One-hot encoding removed index; put it back\n",
    "        enc_df.index = X_cat_col.index\n",
    "\n",
    "        \n",
    "        #print(obj_OHE.categories_)\n",
    "        #display(enc_df)\n",
    "        \n",
    "        # Stores list of newly formed features\n",
    "        cat_labels_new = list(obj_OHE.get_feature_names())\n",
    "        \n",
    "        #print(\"cat_labels_new : \")\n",
    "        #print(cat_labels_new)\n",
    "        enc_cols = enc_df.columns.to_list()\n",
    "\n",
    "        #print(\"label_encoded_feature_classes : \" )\n",
    "        #print(label_encoded_feature_classes)\n",
    "        \n",
    "        #columns_dict = dict(zip(enc_cols,lbl_classes2))\n",
    "         # drop the first feature name from class label list as we have mentioned drop=first in fit call\n",
    "        label_encoded_feature_classes2 = label_encoded_feature_classes[1:]\n",
    "        \n",
    "        columns_dict = dict(zip(enc_cols,label_encoded_feature_classes2))\n",
    "        #print(\"columns_dict : \" )\n",
    "        #print(columns_dict)\n",
    "        \n",
    "        #print(columns_dict)\n",
    "        #display(enc_df.head())\n",
    "\n",
    "        enc_df.rename(columns = columns_dict,inplace=True)\n",
    "        #display(enc_df.head())\n",
    "\n",
    "        \n",
    "        # merge with main df  on key values\n",
    "        X_cat_col = X_cat_col.join(enc_df)\n",
    "        #display(X_cat_col)\n",
    "        \n",
    "        #drop actual column in transition\n",
    "        #X_cat_col.drop(cat_col,axis=1,inplace=True)\n",
    "        X_cat_col.drop(cat_col_lbltr,axis=1,inplace=True)\n",
    "\n",
    "        X = X.join(X_cat_col)\n",
    "        # display(X_cat_col)\n",
    "\n",
    "        #X.head(8)\n",
    "    X.drop(cat_col_lbltr,axis=1,inplace=True)    \n",
    "    return X #[X,enc]"
   ]
  },
  {
   "cell_type": "code",
   "execution_count": 34,
   "id": "3da647b7",
   "metadata": {},
   "outputs": [],
   "source": [
    "# Do the train test split\n",
    "from sklearn.model_selection import train_test_split\n",
    "X_train,X_test,y_train,y_test = train_test_split(X,y,test_size=0.33, random_state=42)"
   ]
  },
  {
   "cell_type": "code",
   "execution_count": 35,
   "id": "e7e541da",
   "metadata": {},
   "outputs": [
    {
     "data": {
      "text/html": [
       "<div>\n",
       "<style scoped>\n",
       "    .dataframe tbody tr th:only-of-type {\n",
       "        vertical-align: middle;\n",
       "    }\n",
       "\n",
       "    .dataframe tbody tr th {\n",
       "        vertical-align: top;\n",
       "    }\n",
       "\n",
       "    .dataframe thead th {\n",
       "        text-align: right;\n",
       "    }\n",
       "</style>\n",
       "<table border=\"1\" class=\"dataframe\">\n",
       "  <thead>\n",
       "    <tr style=\"text-align: right;\">\n",
       "      <th></th>\n",
       "      <th>Drug_LABEL_ENCODE</th>\n",
       "    </tr>\n",
       "  </thead>\n",
       "  <tbody>\n",
       "    <tr>\n",
       "      <th>85</th>\n",
       "      <td>1</td>\n",
       "    </tr>\n",
       "    <tr>\n",
       "      <th>6</th>\n",
       "      <td>1</td>\n",
       "    </tr>\n",
       "    <tr>\n",
       "      <th>27</th>\n",
       "      <td>1</td>\n",
       "    </tr>\n",
       "    <tr>\n",
       "      <th>76</th>\n",
       "      <td>4</td>\n",
       "    </tr>\n",
       "    <tr>\n",
       "      <th>139</th>\n",
       "      <td>2</td>\n",
       "    </tr>\n",
       "  </tbody>\n",
       "</table>\n",
       "</div>"
      ],
      "text/plain": [
       "     Drug_LABEL_ENCODE\n",
       "85                   1\n",
       "6                    1\n",
       "27                   1\n",
       "76                   4\n",
       "139                  2"
      ]
     },
     "metadata": {},
     "output_type": "display_data"
    },
    {
     "data": {
      "text/html": [
       "<div>\n",
       "<style scoped>\n",
       "    .dataframe tbody tr th:only-of-type {\n",
       "        vertical-align: middle;\n",
       "    }\n",
       "\n",
       "    .dataframe tbody tr th {\n",
       "        vertical-align: top;\n",
       "    }\n",
       "\n",
       "    .dataframe thead th {\n",
       "        text-align: right;\n",
       "    }\n",
       "</style>\n",
       "<table border=\"1\" class=\"dataframe\">\n",
       "  <thead>\n",
       "    <tr style=\"text-align: right;\">\n",
       "      <th></th>\n",
       "      <th>Drug_LABEL_ENCODE</th>\n",
       "    </tr>\n",
       "  </thead>\n",
       "  <tbody>\n",
       "    <tr>\n",
       "      <th>105</th>\n",
       "      <td>0</td>\n",
       "    </tr>\n",
       "    <tr>\n",
       "      <th>108</th>\n",
       "      <td>1</td>\n",
       "    </tr>\n",
       "    <tr>\n",
       "      <th>141</th>\n",
       "      <td>1</td>\n",
       "    </tr>\n",
       "    <tr>\n",
       "      <th>55</th>\n",
       "      <td>1</td>\n",
       "    </tr>\n",
       "    <tr>\n",
       "      <th>94</th>\n",
       "      <td>0</td>\n",
       "    </tr>\n",
       "  </tbody>\n",
       "</table>\n",
       "</div>"
      ],
      "text/plain": [
       "     Drug_LABEL_ENCODE\n",
       "105                  0\n",
       "108                  1\n",
       "141                  1\n",
       "55                   1\n",
       "94                   0"
      ]
     },
     "metadata": {},
     "output_type": "display_data"
    }
   ],
   "source": [
    "display(y_train.head())\n",
    "display(y_test.head())"
   ]
  },
  {
   "cell_type": "code",
   "execution_count": 36,
   "id": "4af94027",
   "metadata": {},
   "outputs": [
    {
     "name": "stdout",
     "output_type": "stream",
     "text": [
      "['F_Sex', 'M_Sex']\n"
     ]
    },
    {
     "data": {
      "text/html": [
       "<div>\n",
       "<style scoped>\n",
       "    .dataframe tbody tr th:only-of-type {\n",
       "        vertical-align: middle;\n",
       "    }\n",
       "\n",
       "    .dataframe tbody tr th {\n",
       "        vertical-align: top;\n",
       "    }\n",
       "\n",
       "    .dataframe thead th {\n",
       "        text-align: right;\n",
       "    }\n",
       "</style>\n",
       "<table border=\"1\" class=\"dataframe\">\n",
       "  <thead>\n",
       "    <tr style=\"text-align: right;\">\n",
       "      <th></th>\n",
       "      <th>Age</th>\n",
       "      <th>Sex</th>\n",
       "      <th>BP</th>\n",
       "      <th>Cholesterol</th>\n",
       "      <th>Na_to_K</th>\n",
       "      <th>Drug_LABEL_ENCODE</th>\n",
       "      <th>M_Sex</th>\n",
       "    </tr>\n",
       "  </thead>\n",
       "  <tbody>\n",
       "    <tr>\n",
       "      <th>85</th>\n",
       "      <td>48</td>\n",
       "      <td>F</td>\n",
       "      <td>LOW</td>\n",
       "      <td>HIGH</td>\n",
       "      <td>15.03600</td>\n",
       "      <td>1</td>\n",
       "      <td>0.00000</td>\n",
       "    </tr>\n",
       "    <tr>\n",
       "      <th>6</th>\n",
       "      <td>45</td>\n",
       "      <td>M</td>\n",
       "      <td>LOW</td>\n",
       "      <td>HIGH</td>\n",
       "      <td>17.95100</td>\n",
       "      <td>1</td>\n",
       "      <td>1.00000</td>\n",
       "    </tr>\n",
       "    <tr>\n",
       "      <th>27</th>\n",
       "      <td>64</td>\n",
       "      <td>M</td>\n",
       "      <td>HIGH</td>\n",
       "      <td>NORMAL</td>\n",
       "      <td>20.93200</td>\n",
       "      <td>1</td>\n",
       "      <td>1.00000</td>\n",
       "    </tr>\n",
       "    <tr>\n",
       "      <th>76</th>\n",
       "      <td>60</td>\n",
       "      <td>F</td>\n",
       "      <td>HIGH</td>\n",
       "      <td>HIGH</td>\n",
       "      <td>13.30300</td>\n",
       "      <td>4</td>\n",
       "      <td>0.00000</td>\n",
       "    </tr>\n",
       "    <tr>\n",
       "      <th>139</th>\n",
       "      <td>72</td>\n",
       "      <td>M</td>\n",
       "      <td>LOW</td>\n",
       "      <td>HIGH</td>\n",
       "      <td>6.76900</td>\n",
       "      <td>2</td>\n",
       "      <td>1.00000</td>\n",
       "    </tr>\n",
       "  </tbody>\n",
       "</table>\n",
       "</div>"
      ],
      "text/plain": [
       "     Age Sex    BP Cholesterol  Na_to_K  Drug_LABEL_ENCODE   M_Sex\n",
       "85    48   F   LOW        HIGH 15.03600                  1 0.00000\n",
       "6     45   M   LOW        HIGH 17.95100                  1 1.00000\n",
       "27    64   M  HIGH      NORMAL 20.93200                  1 1.00000\n",
       "76    60   F  HIGH        HIGH 13.30300                  4 0.00000\n",
       "139   72   M   LOW        HIGH  6.76900                  2 1.00000"
      ]
     },
     "metadata": {},
     "output_type": "display_data"
    }
   ],
   "source": [
    "colname = 'Sex'\n",
    "df_ec_X_train,lbl_ec_feat_cls_train,labelencoder_train = LE_FitTransform(featurename= colname,dataset=X_train)\n",
    "#display(df_ec_X_train.head())\n",
    "print(lbl_ec_feat_cls_train)\n",
    "[OHE_EC_X_train,ohe_train] = OHE_FitTransform(featurename=colname,\\\n",
    "                                                     lbl_ec_dataset=df_ec_X_train,\\\n",
    "                                                     label_encoded_feature_classes= lbl_ec_feat_cls_train)\n",
    "display(OHE_EC_X_train.head())"
   ]
  },
  {
   "cell_type": "code",
   "execution_count": 37,
   "id": "86ebfd33",
   "metadata": {},
   "outputs": [
    {
     "data": {
      "text/html": [
       "<div>\n",
       "<style scoped>\n",
       "    .dataframe tbody tr th:only-of-type {\n",
       "        vertical-align: middle;\n",
       "    }\n",
       "\n",
       "    .dataframe tbody tr th {\n",
       "        vertical-align: top;\n",
       "    }\n",
       "\n",
       "    .dataframe thead th {\n",
       "        text-align: right;\n",
       "    }\n",
       "</style>\n",
       "<table border=\"1\" class=\"dataframe\">\n",
       "  <thead>\n",
       "    <tr style=\"text-align: right;\">\n",
       "      <th></th>\n",
       "      <th>Age</th>\n",
       "      <th>Sex</th>\n",
       "      <th>BP</th>\n",
       "      <th>Cholesterol</th>\n",
       "      <th>Na_to_K</th>\n",
       "      <th>Drug_LABEL_ENCODE</th>\n",
       "      <th>M_Sex</th>\n",
       "      <th>LOW_BP</th>\n",
       "      <th>NORMAL_BP</th>\n",
       "    </tr>\n",
       "  </thead>\n",
       "  <tbody>\n",
       "    <tr>\n",
       "      <th>85</th>\n",
       "      <td>48</td>\n",
       "      <td>F</td>\n",
       "      <td>LOW</td>\n",
       "      <td>HIGH</td>\n",
       "      <td>15.03600</td>\n",
       "      <td>1</td>\n",
       "      <td>0.00000</td>\n",
       "      <td>1.00000</td>\n",
       "      <td>0.00000</td>\n",
       "    </tr>\n",
       "    <tr>\n",
       "      <th>6</th>\n",
       "      <td>45</td>\n",
       "      <td>M</td>\n",
       "      <td>LOW</td>\n",
       "      <td>HIGH</td>\n",
       "      <td>17.95100</td>\n",
       "      <td>1</td>\n",
       "      <td>1.00000</td>\n",
       "      <td>1.00000</td>\n",
       "      <td>0.00000</td>\n",
       "    </tr>\n",
       "    <tr>\n",
       "      <th>27</th>\n",
       "      <td>64</td>\n",
       "      <td>M</td>\n",
       "      <td>HIGH</td>\n",
       "      <td>NORMAL</td>\n",
       "      <td>20.93200</td>\n",
       "      <td>1</td>\n",
       "      <td>1.00000</td>\n",
       "      <td>0.00000</td>\n",
       "      <td>0.00000</td>\n",
       "    </tr>\n",
       "    <tr>\n",
       "      <th>76</th>\n",
       "      <td>60</td>\n",
       "      <td>F</td>\n",
       "      <td>HIGH</td>\n",
       "      <td>HIGH</td>\n",
       "      <td>13.30300</td>\n",
       "      <td>4</td>\n",
       "      <td>0.00000</td>\n",
       "      <td>0.00000</td>\n",
       "      <td>0.00000</td>\n",
       "    </tr>\n",
       "    <tr>\n",
       "      <th>139</th>\n",
       "      <td>72</td>\n",
       "      <td>M</td>\n",
       "      <td>LOW</td>\n",
       "      <td>HIGH</td>\n",
       "      <td>6.76900</td>\n",
       "      <td>2</td>\n",
       "      <td>1.00000</td>\n",
       "      <td>1.00000</td>\n",
       "      <td>0.00000</td>\n",
       "    </tr>\n",
       "  </tbody>\n",
       "</table>\n",
       "</div>"
      ],
      "text/plain": [
       "     Age Sex    BP Cholesterol  Na_to_K  Drug_LABEL_ENCODE   M_Sex  LOW_BP  \\\n",
       "85    48   F   LOW        HIGH 15.03600                  1 0.00000 1.00000   \n",
       "6     45   M   LOW        HIGH 17.95100                  1 1.00000 1.00000   \n",
       "27    64   M  HIGH      NORMAL 20.93200                  1 1.00000 0.00000   \n",
       "76    60   F  HIGH        HIGH 13.30300                  4 0.00000 0.00000   \n",
       "139   72   M   LOW        HIGH  6.76900                  2 1.00000 1.00000   \n",
       "\n",
       "     NORMAL_BP  \n",
       "85     0.00000  \n",
       "6      0.00000  \n",
       "27     0.00000  \n",
       "76     0.00000  \n",
       "139    0.00000  "
      ]
     },
     "metadata": {},
     "output_type": "display_data"
    },
    {
     "data": {
      "text/html": [
       "<div>\n",
       "<style scoped>\n",
       "    .dataframe tbody tr th:only-of-type {\n",
       "        vertical-align: middle;\n",
       "    }\n",
       "\n",
       "    .dataframe tbody tr th {\n",
       "        vertical-align: top;\n",
       "    }\n",
       "\n",
       "    .dataframe thead th {\n",
       "        text-align: right;\n",
       "    }\n",
       "</style>\n",
       "<table border=\"1\" class=\"dataframe\">\n",
       "  <thead>\n",
       "    <tr style=\"text-align: right;\">\n",
       "      <th></th>\n",
       "      <th>Age</th>\n",
       "      <th>Sex</th>\n",
       "      <th>BP</th>\n",
       "      <th>Cholesterol</th>\n",
       "      <th>Na_to_K</th>\n",
       "      <th>Drug_LABEL_ENCODE</th>\n",
       "      <th>M_Sex</th>\n",
       "      <th>LOW_BP</th>\n",
       "      <th>NORMAL_BP</th>\n",
       "      <th>NORMAL_Cholesterol</th>\n",
       "    </tr>\n",
       "  </thead>\n",
       "  <tbody>\n",
       "    <tr>\n",
       "      <th>105</th>\n",
       "      <td>53</td>\n",
       "      <td>M</td>\n",
       "      <td>NORMAL</td>\n",
       "      <td>HIGH</td>\n",
       "      <td>14.13300</td>\n",
       "      <td>0</td>\n",
       "      <td>1.00000</td>\n",
       "      <td>0.00000</td>\n",
       "      <td>1.00000</td>\n",
       "      <td>0.00000</td>\n",
       "    </tr>\n",
       "    <tr>\n",
       "      <th>108</th>\n",
       "      <td>41</td>\n",
       "      <td>M</td>\n",
       "      <td>HIGH</td>\n",
       "      <td>NORMAL</td>\n",
       "      <td>15.15600</td>\n",
       "      <td>1</td>\n",
       "      <td>1.00000</td>\n",
       "      <td>0.00000</td>\n",
       "      <td>0.00000</td>\n",
       "      <td>1.00000</td>\n",
       "    </tr>\n",
       "    <tr>\n",
       "      <th>141</th>\n",
       "      <td>62</td>\n",
       "      <td>M</td>\n",
       "      <td>LOW</td>\n",
       "      <td>NORMAL</td>\n",
       "      <td>27.18300</td>\n",
       "      <td>1</td>\n",
       "      <td>1.00000</td>\n",
       "      <td>1.00000</td>\n",
       "      <td>0.00000</td>\n",
       "      <td>1.00000</td>\n",
       "    </tr>\n",
       "    <tr>\n",
       "      <th>55</th>\n",
       "      <td>46</td>\n",
       "      <td>F</td>\n",
       "      <td>HIGH</td>\n",
       "      <td>HIGH</td>\n",
       "      <td>34.68600</td>\n",
       "      <td>1</td>\n",
       "      <td>0.00000</td>\n",
       "      <td>0.00000</td>\n",
       "      <td>0.00000</td>\n",
       "      <td>0.00000</td>\n",
       "    </tr>\n",
       "    <tr>\n",
       "      <th>94</th>\n",
       "      <td>23</td>\n",
       "      <td>M</td>\n",
       "      <td>NORMAL</td>\n",
       "      <td>HIGH</td>\n",
       "      <td>12.26000</td>\n",
       "      <td>0</td>\n",
       "      <td>1.00000</td>\n",
       "      <td>0.00000</td>\n",
       "      <td>1.00000</td>\n",
       "      <td>0.00000</td>\n",
       "    </tr>\n",
       "  </tbody>\n",
       "</table>\n",
       "</div>"
      ],
      "text/plain": [
       "     Age Sex      BP Cholesterol  Na_to_K  Drug_LABEL_ENCODE   M_Sex  LOW_BP  \\\n",
       "105   53   M  NORMAL        HIGH 14.13300                  0 1.00000 0.00000   \n",
       "108   41   M    HIGH      NORMAL 15.15600                  1 1.00000 0.00000   \n",
       "141   62   M     LOW      NORMAL 27.18300                  1 1.00000 1.00000   \n",
       "55    46   F    HIGH        HIGH 34.68600                  1 0.00000 0.00000   \n",
       "94    23   M  NORMAL        HIGH 12.26000                  0 1.00000 0.00000   \n",
       "\n",
       "     NORMAL_BP  NORMAL_Cholesterol  \n",
       "105    1.00000             0.00000  \n",
       "108    0.00000             1.00000  \n",
       "141    0.00000             1.00000  \n",
       "55     0.00000             0.00000  \n",
       "94     1.00000             0.00000  "
      ]
     },
     "metadata": {},
     "output_type": "display_data"
    }
   ],
   "source": [
    "\n",
    "# Do the Encoding on enire dataset for a couple of sample columns \n",
    "\n",
    "\n",
    "colname = 'Sex'\n",
    "df_ec_X_train,lbl_ec_feat_cls_train,labelencoder_train = LE_FitTransform(featurename= colname,dataset=X_train)\n",
    "[OHE_EC_X_train,ohe_train] = OHE_FitTransform(featurename=colname,\\\n",
    "                                                     lbl_ec_dataset=df_ec_X_train,\\\n",
    "                                                     label_encoded_feature_classes= lbl_ec_feat_cls_train)\n",
    "\n",
    "df_ec_X_test,lbl_ec_feat_cls_test = LE_Transform(featurename= colname,\\\n",
    "                                                           dataset=X_test,\\\n",
    "                                                           labelencoder=labelencoder_train)\n",
    "\n",
    "\n",
    "OHE_EC_X_test = OHE_Transform(featurename=colname,\\\n",
    "                                     lbl_ec_dataset_test=df_ec_X_test,\\\n",
    "                                     label_encoded_feature_classes=lbl_ec_feat_cls_test,\\\n",
    "                                     obj_OHE=ohe_train)\n",
    "\n",
    "\n",
    "colname = 'BP'\n",
    "df_ec_X_train,lbl_ec_feat_cls_train,labelencoder_train = \\\n",
    "                                    LE_FitTransform(featurename= colname,dataset=OHE_EC_X_train)\n",
    "\n",
    "#display(df_ec_X_train)\n",
    "\n",
    "[OHE_EC_X_train,ohe_train] = OHE_FitTransform(featurename=colname,\\\n",
    "                                                    lbl_ec_dataset=df_ec_X_train,\\\n",
    "                                                    label_encoded_feature_classes= lbl_ec_feat_cls_train)\n",
    "\n",
    "df_ec_X_test,lbl_ec_feat_cls_test = LE_Transform(featurename= colname,dataset=OHE_EC_X_test,\\\n",
    "                                                labelencoder=labelencoder_train)\n",
    "OHE_EC_X_test = OHE_Transform(featurename=colname,\\\n",
    "                                     lbl_ec_dataset_test=df_ec_X_test,\\\n",
    "                                     label_encoded_feature_classes=lbl_ec_feat_cls_test,\\\n",
    "                                     obj_OHE=ohe_train)\n",
    "\n",
    "\n",
    "\n",
    "\n",
    "\n",
    "colname = 'Cholesterol'\n",
    "df_ec_X_train,lbl_ec_feat_cls_train,labelencoder_train = LE_FitTransform(featurename= colname,dataset=OHE_EC_X_train)\n",
    "\n",
    "[OHE_EC_X_Train,ohe_train] = OHE_FitTransform(featurename=colname,\\\n",
    "                                               lbl_ec_dataset=df_ec_X_train,\\\n",
    "                                               label_encoded_feature_classes= lbl_ec_feat_cls_train)\n",
    "\n",
    "df_ec_X_test,lbl_ec_feat_cls_test = LE_Transform(featurename= colname,dataset=OHE_EC_X_test,\\\n",
    "                                        labelencoder=labelencoder_train)\n",
    "OHE_EC_X_test = OHE_Transform(featurename=colname,\\\n",
    "                                     lbl_ec_dataset_test=df_ec_X_test,\\\n",
    "                                     label_encoded_feature_classes=lbl_ec_feat_cls_test,\\\n",
    "                                     obj_OHE=ohe_train)\n",
    "\n",
    "\n",
    "\n",
    "\n",
    "display(OHE_EC_X_train.head())\n",
    "display(OHE_EC_X_test.head())"
   ]
  },
  {
   "cell_type": "code",
   "execution_count": 38,
   "id": "0ed3aa11",
   "metadata": {},
   "outputs": [
    {
     "data": {
      "text/html": [
       "<div>\n",
       "<style scoped>\n",
       "    .dataframe tbody tr th:only-of-type {\n",
       "        vertical-align: middle;\n",
       "    }\n",
       "\n",
       "    .dataframe tbody tr th {\n",
       "        vertical-align: top;\n",
       "    }\n",
       "\n",
       "    .dataframe thead th {\n",
       "        text-align: right;\n",
       "    }\n",
       "</style>\n",
       "<table border=\"1\" class=\"dataframe\">\n",
       "  <thead>\n",
       "    <tr style=\"text-align: right;\">\n",
       "      <th></th>\n",
       "      <th>Age</th>\n",
       "      <th>Sex</th>\n",
       "      <th>BP</th>\n",
       "      <th>Cholesterol</th>\n",
       "      <th>Na_to_K</th>\n",
       "      <th>Drug_LABEL_ENCODE</th>\n",
       "      <th>M_Sex</th>\n",
       "      <th>LOW_BP</th>\n",
       "      <th>NORMAL_BP</th>\n",
       "      <th>NORMAL_Cholesterol</th>\n",
       "    </tr>\n",
       "  </thead>\n",
       "  <tbody>\n",
       "    <tr>\n",
       "      <th>105</th>\n",
       "      <td>53</td>\n",
       "      <td>M</td>\n",
       "      <td>NORMAL</td>\n",
       "      <td>HIGH</td>\n",
       "      <td>14.13300</td>\n",
       "      <td>0</td>\n",
       "      <td>1.00000</td>\n",
       "      <td>0.00000</td>\n",
       "      <td>1.00000</td>\n",
       "      <td>0.00000</td>\n",
       "    </tr>\n",
       "    <tr>\n",
       "      <th>108</th>\n",
       "      <td>41</td>\n",
       "      <td>M</td>\n",
       "      <td>HIGH</td>\n",
       "      <td>NORMAL</td>\n",
       "      <td>15.15600</td>\n",
       "      <td>1</td>\n",
       "      <td>1.00000</td>\n",
       "      <td>0.00000</td>\n",
       "      <td>0.00000</td>\n",
       "      <td>1.00000</td>\n",
       "    </tr>\n",
       "    <tr>\n",
       "      <th>141</th>\n",
       "      <td>62</td>\n",
       "      <td>M</td>\n",
       "      <td>LOW</td>\n",
       "      <td>NORMAL</td>\n",
       "      <td>27.18300</td>\n",
       "      <td>1</td>\n",
       "      <td>1.00000</td>\n",
       "      <td>1.00000</td>\n",
       "      <td>0.00000</td>\n",
       "      <td>1.00000</td>\n",
       "    </tr>\n",
       "    <tr>\n",
       "      <th>55</th>\n",
       "      <td>46</td>\n",
       "      <td>F</td>\n",
       "      <td>HIGH</td>\n",
       "      <td>HIGH</td>\n",
       "      <td>34.68600</td>\n",
       "      <td>1</td>\n",
       "      <td>0.00000</td>\n",
       "      <td>0.00000</td>\n",
       "      <td>0.00000</td>\n",
       "      <td>0.00000</td>\n",
       "    </tr>\n",
       "    <tr>\n",
       "      <th>94</th>\n",
       "      <td>23</td>\n",
       "      <td>M</td>\n",
       "      <td>NORMAL</td>\n",
       "      <td>HIGH</td>\n",
       "      <td>12.26000</td>\n",
       "      <td>0</td>\n",
       "      <td>1.00000</td>\n",
       "      <td>0.00000</td>\n",
       "      <td>1.00000</td>\n",
       "      <td>0.00000</td>\n",
       "    </tr>\n",
       "  </tbody>\n",
       "</table>\n",
       "</div>"
      ],
      "text/plain": [
       "     Age Sex      BP Cholesterol  Na_to_K  Drug_LABEL_ENCODE   M_Sex  LOW_BP  \\\n",
       "105   53   M  NORMAL        HIGH 14.13300                  0 1.00000 0.00000   \n",
       "108   41   M    HIGH      NORMAL 15.15600                  1 1.00000 0.00000   \n",
       "141   62   M     LOW      NORMAL 27.18300                  1 1.00000 1.00000   \n",
       "55    46   F    HIGH        HIGH 34.68600                  1 0.00000 0.00000   \n",
       "94    23   M  NORMAL        HIGH 12.26000                  0 1.00000 0.00000   \n",
       "\n",
       "     NORMAL_BP  NORMAL_Cholesterol  \n",
       "105    1.00000             0.00000  \n",
       "108    0.00000             1.00000  \n",
       "141    0.00000             1.00000  \n",
       "55     0.00000             0.00000  \n",
       "94     1.00000             0.00000  "
      ]
     },
     "metadata": {},
     "output_type": "display_data"
    },
    {
     "data": {
      "text/html": [
       "<div>\n",
       "<style scoped>\n",
       "    .dataframe tbody tr th:only-of-type {\n",
       "        vertical-align: middle;\n",
       "    }\n",
       "\n",
       "    .dataframe tbody tr th {\n",
       "        vertical-align: top;\n",
       "    }\n",
       "\n",
       "    .dataframe thead th {\n",
       "        text-align: right;\n",
       "    }\n",
       "</style>\n",
       "<table border=\"1\" class=\"dataframe\">\n",
       "  <thead>\n",
       "    <tr style=\"text-align: right;\">\n",
       "      <th></th>\n",
       "      <th>Age</th>\n",
       "      <th>Sex</th>\n",
       "      <th>BP</th>\n",
       "      <th>Cholesterol</th>\n",
       "      <th>Na_to_K</th>\n",
       "      <th>M_Sex</th>\n",
       "      <th>LOW_BP</th>\n",
       "      <th>NORMAL_BP</th>\n",
       "      <th>NORMAL_Cholesterol</th>\n",
       "    </tr>\n",
       "  </thead>\n",
       "  <tbody>\n",
       "    <tr>\n",
       "      <th>0</th>\n",
       "      <td>36</td>\n",
       "      <td>M</td>\n",
       "      <td>LOW</td>\n",
       "      <td>NORMAL</td>\n",
       "      <td>11.42400</td>\n",
       "      <td>1.00000</td>\n",
       "      <td>1.00000</td>\n",
       "      <td>0.00000</td>\n",
       "      <td>1.00000</td>\n",
       "    </tr>\n",
       "    <tr>\n",
       "      <th>1</th>\n",
       "      <td>16</td>\n",
       "      <td>F</td>\n",
       "      <td>HIGH</td>\n",
       "      <td>NORMAL</td>\n",
       "      <td>15.51600</td>\n",
       "      <td>0.00000</td>\n",
       "      <td>0.00000</td>\n",
       "      <td>0.00000</td>\n",
       "      <td>1.00000</td>\n",
       "    </tr>\n",
       "    <tr>\n",
       "      <th>2</th>\n",
       "      <td>18</td>\n",
       "      <td>F</td>\n",
       "      <td>NORMAL</td>\n",
       "      <td>NORMAL</td>\n",
       "      <td>8.75000</td>\n",
       "      <td>0.00000</td>\n",
       "      <td>0.00000</td>\n",
       "      <td>1.00000</td>\n",
       "      <td>1.00000</td>\n",
       "    </tr>\n",
       "    <tr>\n",
       "      <th>3</th>\n",
       "      <td>59</td>\n",
       "      <td>F</td>\n",
       "      <td>LOW</td>\n",
       "      <td>HIGH</td>\n",
       "      <td>10.44400</td>\n",
       "      <td>0.00000</td>\n",
       "      <td>1.00000</td>\n",
       "      <td>0.00000</td>\n",
       "      <td>0.00000</td>\n",
       "    </tr>\n",
       "    <tr>\n",
       "      <th>4</th>\n",
       "      <td>47</td>\n",
       "      <td>M</td>\n",
       "      <td>LOW</td>\n",
       "      <td>NORMAL</td>\n",
       "      <td>33.54200</td>\n",
       "      <td>1.00000</td>\n",
       "      <td>1.00000</td>\n",
       "      <td>0.00000</td>\n",
       "      <td>1.00000</td>\n",
       "    </tr>\n",
       "  </tbody>\n",
       "</table>\n",
       "</div>"
      ],
      "text/plain": [
       "   Age Sex      BP Cholesterol  Na_to_K   M_Sex  LOW_BP  NORMAL_BP  \\\n",
       "0   36   M     LOW      NORMAL 11.42400 1.00000 1.00000    0.00000   \n",
       "1   16   F    HIGH      NORMAL 15.51600 0.00000 0.00000    0.00000   \n",
       "2   18   F  NORMAL      NORMAL  8.75000 0.00000 0.00000    1.00000   \n",
       "3   59   F     LOW        HIGH 10.44400 0.00000 1.00000    0.00000   \n",
       "4   47   M     LOW      NORMAL 33.54200 1.00000 1.00000    0.00000   \n",
       "\n",
       "   NORMAL_Cholesterol  \n",
       "0             1.00000  \n",
       "1             1.00000  \n",
       "2             1.00000  \n",
       "3             0.00000  \n",
       "4             1.00000  "
      ]
     },
     "metadata": {},
     "output_type": "display_data"
    }
   ],
   "source": [
    "# Do Label and then One hot Encoding of EV Categorical Features \n",
    "\n",
    "# Do the Encoding on enire dataset for all categorical columns in loop\n",
    "\n",
    "X_train_F = X_train.copy()\n",
    "X_test_F = X_test.copy()\n",
    "X_Prod_F = X_Prod.copy()\n",
    "\n",
    "columns = ['Sex','BP','Cholesterol']\n",
    "for cols in columns:\n",
    "    \n",
    "    colname = cols #'Sex'\n",
    "    df_ec_X_train,lbl_ec_feat_cls_train,labelencoder_train = LE_FitTransform(featurename= colname,dataset=X_train_F)\n",
    "    \n",
    "    [OHE_EC_X_train,ohe_train] = OHE_FitTransform(featurename=colname,\\\n",
    "                                                         lbl_ec_dataset=df_ec_X_train,\\\n",
    "                                                         label_encoded_feature_classes= lbl_ec_feat_cls_train)\n",
    "\n",
    "    df_ec_X_test,lbl_ec_feat_cls_test = LE_Transform(featurename= colname,\\\n",
    "                                                               dataset=X_test_F,\\\n",
    "                                                               labelencoder=labelencoder_train)\n",
    "\n",
    "\n",
    "    OHE_EC_X_test = OHE_Transform(featurename=colname,\\\n",
    "                                         lbl_ec_dataset_test=df_ec_X_test,\\\n",
    "                                         label_encoded_feature_classes=lbl_ec_feat_cls_test,\\\n",
    "                                         obj_OHE=ohe_train)\n",
    "    \n",
    "    \n",
    "    df_ec_X_Prod,lbl_ec_feat_cls_Prod = LE_Transform(featurename= colname,\\\n",
    "                                                               dataset=X_Prod_F,\\\n",
    "                                                               labelencoder=labelencoder_train)\n",
    "\n",
    "\n",
    "    OHE_EC_X_Prod = OHE_Transform(featurename=colname,\\\n",
    "                                         lbl_ec_dataset_test=df_ec_X_Prod,\\\n",
    "                                         label_encoded_feature_classes=lbl_ec_feat_cls_Prod,\\\n",
    "                                         obj_OHE=ohe_train)\n",
    "                                         \n",
    "    \n",
    "    \n",
    "    \n",
    "    \n",
    "\n",
    "    X_train_F = OHE_EC_X_train\n",
    "    X_test_F= OHE_EC_X_test\n",
    "    X_Prod_F= OHE_EC_X_Prod\n",
    "    \n",
    "#display(X_train_F.head())\n",
    "display(X_test_F.head())\n",
    "display(X_Prod_F.head())"
   ]
  },
  {
   "cell_type": "code",
   "execution_count": 39,
   "id": "db24ff35",
   "metadata": {},
   "outputs": [
    {
     "data": {
      "text/html": [
       "<div>\n",
       "<style scoped>\n",
       "    .dataframe tbody tr th:only-of-type {\n",
       "        vertical-align: middle;\n",
       "    }\n",
       "\n",
       "    .dataframe tbody tr th {\n",
       "        vertical-align: top;\n",
       "    }\n",
       "\n",
       "    .dataframe thead th {\n",
       "        text-align: right;\n",
       "    }\n",
       "</style>\n",
       "<table border=\"1\" class=\"dataframe\">\n",
       "  <thead>\n",
       "    <tr style=\"text-align: right;\">\n",
       "      <th></th>\n",
       "      <th>Age</th>\n",
       "      <th>Na_to_K</th>\n",
       "      <th>M_Sex</th>\n",
       "      <th>LOW_BP</th>\n",
       "      <th>NORMAL_BP</th>\n",
       "      <th>NORMAL_Cholesterol</th>\n",
       "    </tr>\n",
       "  </thead>\n",
       "  <tbody>\n",
       "    <tr>\n",
       "      <th>85</th>\n",
       "      <td>48</td>\n",
       "      <td>15.03600</td>\n",
       "      <td>0.00000</td>\n",
       "      <td>1.00000</td>\n",
       "      <td>0.00000</td>\n",
       "      <td>0.00000</td>\n",
       "    </tr>\n",
       "    <tr>\n",
       "      <th>6</th>\n",
       "      <td>45</td>\n",
       "      <td>17.95100</td>\n",
       "      <td>1.00000</td>\n",
       "      <td>1.00000</td>\n",
       "      <td>0.00000</td>\n",
       "      <td>0.00000</td>\n",
       "    </tr>\n",
       "    <tr>\n",
       "      <th>27</th>\n",
       "      <td>64</td>\n",
       "      <td>20.93200</td>\n",
       "      <td>1.00000</td>\n",
       "      <td>0.00000</td>\n",
       "      <td>0.00000</td>\n",
       "      <td>1.00000</td>\n",
       "    </tr>\n",
       "  </tbody>\n",
       "</table>\n",
       "</div>"
      ],
      "text/plain": [
       "    Age  Na_to_K   M_Sex  LOW_BP  NORMAL_BP  NORMAL_Cholesterol\n",
       "85   48 15.03600 0.00000 1.00000    0.00000             0.00000\n",
       "6    45 17.95100 1.00000 1.00000    0.00000             0.00000\n",
       "27   64 20.93200 1.00000 0.00000    0.00000             1.00000"
      ]
     },
     "metadata": {},
     "output_type": "display_data"
    },
    {
     "data": {
      "text/html": [
       "<div>\n",
       "<style scoped>\n",
       "    .dataframe tbody tr th:only-of-type {\n",
       "        vertical-align: middle;\n",
       "    }\n",
       "\n",
       "    .dataframe tbody tr th {\n",
       "        vertical-align: top;\n",
       "    }\n",
       "\n",
       "    .dataframe thead th {\n",
       "        text-align: right;\n",
       "    }\n",
       "</style>\n",
       "<table border=\"1\" class=\"dataframe\">\n",
       "  <thead>\n",
       "    <tr style=\"text-align: right;\">\n",
       "      <th></th>\n",
       "      <th>Age</th>\n",
       "      <th>Na_to_K</th>\n",
       "      <th>M_Sex</th>\n",
       "      <th>LOW_BP</th>\n",
       "      <th>NORMAL_BP</th>\n",
       "      <th>NORMAL_Cholesterol</th>\n",
       "    </tr>\n",
       "  </thead>\n",
       "  <tbody>\n",
       "    <tr>\n",
       "      <th>105</th>\n",
       "      <td>53</td>\n",
       "      <td>14.13300</td>\n",
       "      <td>1.00000</td>\n",
       "      <td>0.00000</td>\n",
       "      <td>1.00000</td>\n",
       "      <td>0.00000</td>\n",
       "    </tr>\n",
       "    <tr>\n",
       "      <th>108</th>\n",
       "      <td>41</td>\n",
       "      <td>15.15600</td>\n",
       "      <td>1.00000</td>\n",
       "      <td>0.00000</td>\n",
       "      <td>0.00000</td>\n",
       "      <td>1.00000</td>\n",
       "    </tr>\n",
       "    <tr>\n",
       "      <th>141</th>\n",
       "      <td>62</td>\n",
       "      <td>27.18300</td>\n",
       "      <td>1.00000</td>\n",
       "      <td>1.00000</td>\n",
       "      <td>0.00000</td>\n",
       "      <td>1.00000</td>\n",
       "    </tr>\n",
       "  </tbody>\n",
       "</table>\n",
       "</div>"
      ],
      "text/plain": [
       "     Age  Na_to_K   M_Sex  LOW_BP  NORMAL_BP  NORMAL_Cholesterol\n",
       "105   53 14.13300 1.00000 0.00000    1.00000             0.00000\n",
       "108   41 15.15600 1.00000 0.00000    0.00000             1.00000\n",
       "141   62 27.18300 1.00000 1.00000    0.00000             1.00000"
      ]
     },
     "metadata": {},
     "output_type": "display_data"
    },
    {
     "data": {
      "text/html": [
       "<div>\n",
       "<style scoped>\n",
       "    .dataframe tbody tr th:only-of-type {\n",
       "        vertical-align: middle;\n",
       "    }\n",
       "\n",
       "    .dataframe tbody tr th {\n",
       "        vertical-align: top;\n",
       "    }\n",
       "\n",
       "    .dataframe thead th {\n",
       "        text-align: right;\n",
       "    }\n",
       "</style>\n",
       "<table border=\"1\" class=\"dataframe\">\n",
       "  <thead>\n",
       "    <tr style=\"text-align: right;\">\n",
       "      <th></th>\n",
       "      <th>Age</th>\n",
       "      <th>Na_to_K</th>\n",
       "      <th>M_Sex</th>\n",
       "      <th>LOW_BP</th>\n",
       "      <th>NORMAL_BP</th>\n",
       "      <th>NORMAL_Cholesterol</th>\n",
       "    </tr>\n",
       "  </thead>\n",
       "  <tbody>\n",
       "    <tr>\n",
       "      <th>0</th>\n",
       "      <td>36</td>\n",
       "      <td>11.42400</td>\n",
       "      <td>1.00000</td>\n",
       "      <td>1.00000</td>\n",
       "      <td>0.00000</td>\n",
       "      <td>1.00000</td>\n",
       "    </tr>\n",
       "    <tr>\n",
       "      <th>1</th>\n",
       "      <td>16</td>\n",
       "      <td>15.51600</td>\n",
       "      <td>0.00000</td>\n",
       "      <td>0.00000</td>\n",
       "      <td>0.00000</td>\n",
       "      <td>1.00000</td>\n",
       "    </tr>\n",
       "    <tr>\n",
       "      <th>2</th>\n",
       "      <td>18</td>\n",
       "      <td>8.75000</td>\n",
       "      <td>0.00000</td>\n",
       "      <td>0.00000</td>\n",
       "      <td>1.00000</td>\n",
       "      <td>1.00000</td>\n",
       "    </tr>\n",
       "  </tbody>\n",
       "</table>\n",
       "</div>"
      ],
      "text/plain": [
       "   Age  Na_to_K   M_Sex  LOW_BP  NORMAL_BP  NORMAL_Cholesterol\n",
       "0   36 11.42400 1.00000 1.00000    0.00000             1.00000\n",
       "1   16 15.51600 0.00000 0.00000    0.00000             1.00000\n",
       "2   18  8.75000 0.00000 0.00000    1.00000             1.00000"
      ]
     },
     "metadata": {},
     "output_type": "display_data"
    },
    {
     "name": "stdout",
     "output_type": "stream",
     "text": [
      "Test Dataset shape\n",
      "(53, 6) (53, 1)\n",
      "Train Dataset shape\n",
      "(107, 6) (107, 1)\n",
      "Prod Dataset shape\n",
      "(40, 6)\n"
     ]
    }
   ],
   "source": [
    "\n",
    "# Prepare final train and test dataset by discarding original catogerical fatures \n",
    "# consider only encoded features \n",
    "\n",
    "\n",
    "'''\n",
    "\n",
    "X_train_Features = X_train_F.loc[:,X_train_F.columns[X_train_F.columns !='Sex'] & \\\n",
    "                         X_train_F.columns[X_train_F.columns !='BP'] & \\\n",
    "               X_train_F.columns[X_train_F.columns !='Cholesterol']]\n",
    "\n",
    "X_test_Features = X_test_F.loc[:,X_test_F.columns[X_test_F.columns !='Sex'] & \\\n",
    "                         X_test_F.columns[X_test_F.columns !='BP'] & \\\n",
    "               X_test_F.columns[X_test_F.columns !='Cholesterol']]\n",
    "\n",
    "X_Prod_Features = X_Prod_F.loc[:,X_Prod_F.columns[X_Prod_F.columns !='Sex'] & \\\n",
    "                         X_Prod_F.columns[X_Prod_F.columns !='BP'] & \\\n",
    "               X_Prod_F.columns[X_Prod_F.columns !='Cholesterol']]\n",
    "\n",
    "'''\n",
    "\n",
    "\n",
    "X_train_Features = X_train_F[['Age','Na_to_K','M_Sex','LOW_BP','NORMAL_BP','NORMAL_Cholesterol']]\n",
    "\n",
    "X_test_Features = X_test_F[['Age','Na_to_K','M_Sex','LOW_BP','NORMAL_BP','NORMAL_Cholesterol']]\n",
    "\n",
    "X_Prod_Features = X_Prod_F[['Age','Na_to_K','M_Sex','LOW_BP','NORMAL_BP','NORMAL_Cholesterol']]\n",
    "display(X_train_Features.head(3))\n",
    "display(X_test_Features.head(3))\n",
    "display(X_Prod_Features.head(3))\n",
    "\n",
    "print(\"Test Dataset shape\")\n",
    "print(X_test_Features.shape,y_test.shape)\n",
    "print(\"Train Dataset shape\")\n",
    "print(X_train_Features.shape,y_train.shape)\n",
    "\n",
    "print(\"Prod Dataset shape\")\n",
    "print(X_Prod_Features.shape)"
   ]
  },
  {
   "cell_type": "code",
   "execution_count": 40,
   "id": "2a901ec9",
   "metadata": {},
   "outputs": [
    {
     "data": {
      "text/html": [
       "<div>\n",
       "<style scoped>\n",
       "    .dataframe tbody tr th:only-of-type {\n",
       "        vertical-align: middle;\n",
       "    }\n",
       "\n",
       "    .dataframe tbody tr th {\n",
       "        vertical-align: top;\n",
       "    }\n",
       "\n",
       "    .dataframe thead th {\n",
       "        text-align: right;\n",
       "    }\n",
       "</style>\n",
       "<table border=\"1\" class=\"dataframe\">\n",
       "  <thead>\n",
       "    <tr style=\"text-align: right;\">\n",
       "      <th></th>\n",
       "      <th>Drug_LABEL_ENCODE</th>\n",
       "    </tr>\n",
       "  </thead>\n",
       "  <tbody>\n",
       "    <tr>\n",
       "      <th>85</th>\n",
       "      <td>1</td>\n",
       "    </tr>\n",
       "    <tr>\n",
       "      <th>6</th>\n",
       "      <td>1</td>\n",
       "    </tr>\n",
       "    <tr>\n",
       "      <th>27</th>\n",
       "      <td>1</td>\n",
       "    </tr>\n",
       "  </tbody>\n",
       "</table>\n",
       "</div>"
      ],
      "text/plain": [
       "    Drug_LABEL_ENCODE\n",
       "85                  1\n",
       "6                   1\n",
       "27                  1"
      ]
     },
     "metadata": {},
     "output_type": "display_data"
    }
   ],
   "source": [
    "# print(X_train_OS.shape,y_train_OS.shape)\n",
    "\n",
    "display(y_train.head(3))"
   ]
  },
  {
   "cell_type": "markdown",
   "id": "a771ee97",
   "metadata": {},
   "source": [
    "# 4 Model Development & Evaluation"
   ]
  },
  {
   "cell_type": "markdown",
   "id": "ebe636b1",
   "metadata": {},
   "source": [
    "## 4.1 Logistic Regression - Baseline Model**"
   ]
  },
  {
   "cell_type": "code",
   "execution_count": 41,
   "id": "5e7e37b8",
   "metadata": {},
   "outputs": [],
   "source": [
    "#-------------------------------------------------------------------------------------------------------------------------------\n",
    "from sklearn.metrics import accuracy_score                          # For calculating the accuracy for the model\n",
    "from sklearn.metrics import precision_score                         # For calculating the Precision of the model\n",
    "from sklearn.metrics import recall_score                            # For calculating the recall of the model\n",
    "from sklearn.metrics import precision_recall_curve                  # For precision and recall metric estimation\n",
    "from sklearn.metrics import confusion_matrix                        # For verifying model performance using confusion matrix\n",
    "from sklearn.metrics import f1_score                                # For Checking the F1-Score of our model  \n",
    "from sklearn.metrics import roc_curve                               # For Roc-Auc metric estimation\n",
    "#----------------------------------------------------------------------------------------------------------------------------              # To split the data in training and testing part     \n",
    "from sklearn.linear_model import LogisticRegression                 # To create the Logistic Regression Model\n",
    "#-------------------------------------------------------------------------------------------------------------------------------\n",
    "import warnings                                                     # Importing warning to disable runtime warnings\n",
    "warnings.filterwarnings(\"ignore\")                        "
   ]
  },
  {
   "cell_type": "code",
   "execution_count": 42,
   "id": "24af7c87",
   "metadata": {},
   "outputs": [
    {
     "data": {
      "text/plain": [
       "LogisticRegression()"
      ]
     },
     "execution_count": 42,
     "metadata": {},
     "output_type": "execute_result"
    }
   ],
   "source": [
    "logreg = LogisticRegression()\n",
    "# logreg.fit(X_train_OS,y_train_OS)\n",
    "logreg.fit(X_train_Features,y_train)"
   ]
  },
  {
   "cell_type": "code",
   "execution_count": 43,
   "id": "36c97892",
   "metadata": {},
   "outputs": [],
   "source": [
    "#predicting on train data\n",
    "#y_pred_train = logreg.predict(X_train_OS)\n",
    "y_pred_train = logreg.predict(X_train_Features)\n",
    "\n",
    "#predicting on test data\n",
    "y_pred_test = pd.DataFrame(logreg.predict(X_test_Features),columns={'Drug_LABEL_ENCODE'})\n",
    "#y_pred_test = (logreg.predict(X_test_Features))"
   ]
  },
  {
   "cell_type": "code",
   "execution_count": 44,
   "id": "96191937",
   "metadata": {},
   "outputs": [
    {
     "data": {
      "text/plain": [
       "((53, 6), (53, 1))"
      ]
     },
     "execution_count": 44,
     "metadata": {},
     "output_type": "execute_result"
    }
   ],
   "source": [
    "X_test_Features.shape,y_pred_test.shape"
   ]
  },
  {
   "cell_type": "code",
   "execution_count": 45,
   "id": "0cbe3040",
   "metadata": {},
   "outputs": [
    {
     "data": {
      "text/html": [
       "<div>\n",
       "<style scoped>\n",
       "    .dataframe tbody tr th:only-of-type {\n",
       "        vertical-align: middle;\n",
       "    }\n",
       "\n",
       "    .dataframe tbody tr th {\n",
       "        vertical-align: top;\n",
       "    }\n",
       "\n",
       "    .dataframe thead th {\n",
       "        text-align: right;\n",
       "    }\n",
       "</style>\n",
       "<table border=\"1\" class=\"dataframe\">\n",
       "  <thead>\n",
       "    <tr style=\"text-align: right;\">\n",
       "      <th></th>\n",
       "      <th>Drug_LABEL_ENCODE</th>\n",
       "    </tr>\n",
       "  </thead>\n",
       "  <tbody>\n",
       "    <tr>\n",
       "      <th>0</th>\n",
       "      <td>1</td>\n",
       "    </tr>\n",
       "    <tr>\n",
       "      <th>1</th>\n",
       "      <td>3</td>\n",
       "    </tr>\n",
       "    <tr>\n",
       "      <th>2</th>\n",
       "      <td>1</td>\n",
       "    </tr>\n",
       "    <tr>\n",
       "      <th>3</th>\n",
       "      <td>1</td>\n",
       "    </tr>\n",
       "    <tr>\n",
       "      <th>4</th>\n",
       "      <td>0</td>\n",
       "    </tr>\n",
       "  </tbody>\n",
       "</table>\n",
       "</div>"
      ],
      "text/plain": [
       "   Drug_LABEL_ENCODE\n",
       "0                  1\n",
       "1                  3\n",
       "2                  1\n",
       "3                  1\n",
       "4                  0"
      ]
     },
     "execution_count": 45,
     "metadata": {},
     "output_type": "execute_result"
    }
   ],
   "source": [
    "# y_test.head()\n",
    "y_pred_test.head()"
   ]
  },
  {
   "cell_type": "markdown",
   "id": "4342c0bd",
   "metadata": {},
   "source": [
    "### Checking Confusion Matrix"
   ]
  },
  {
   "cell_type": "code",
   "execution_count": 46,
   "id": "c4a1b56e",
   "metadata": {},
   "outputs": [
    {
     "name": "stdout",
     "output_type": "stream",
     "text": [
      "['drugX', 'DrugY', 'drugC', 'drugA', 'drugB']\n"
     ]
    }
   ],
   "source": [
    "labels_target = list(labelencoder_target) #.classes_\n",
    "print(labels_target)\n",
    "cfm_lin_reg = pd.DataFrame(confusion_matrix(y_test , y_pred_test ),columns=labels_target,index=labels_target)\n",
    "#cfm_lin_reg.columns\n",
    "#print(confusion_matrix.columns)"
   ]
  },
  {
   "cell_type": "code",
   "execution_count": 47,
   "id": "ff961f5c",
   "metadata": {},
   "outputs": [
    {
     "data": {
      "text/html": [
       "<div>\n",
       "<style scoped>\n",
       "    .dataframe tbody tr th:only-of-type {\n",
       "        vertical-align: middle;\n",
       "    }\n",
       "\n",
       "    .dataframe tbody tr th {\n",
       "        vertical-align: top;\n",
       "    }\n",
       "\n",
       "    .dataframe thead th {\n",
       "        text-align: right;\n",
       "    }\n",
       "</style>\n",
       "<table border=\"1\" class=\"dataframe\">\n",
       "  <thead>\n",
       "    <tr style=\"text-align: right;\">\n",
       "      <th></th>\n",
       "      <th>drugX</th>\n",
       "      <th>DrugY</th>\n",
       "      <th>drugC</th>\n",
       "      <th>drugA</th>\n",
       "      <th>drugB</th>\n",
       "    </tr>\n",
       "  </thead>\n",
       "  <tbody>\n",
       "    <tr>\n",
       "      <th>drugX</th>\n",
       "      <td>14</td>\n",
       "      <td>1</td>\n",
       "      <td>0</td>\n",
       "      <td>0</td>\n",
       "      <td>0</td>\n",
       "    </tr>\n",
       "    <tr>\n",
       "      <th>DrugY</th>\n",
       "      <td>1</td>\n",
       "      <td>24</td>\n",
       "      <td>0</td>\n",
       "      <td>1</td>\n",
       "      <td>0</td>\n",
       "    </tr>\n",
       "    <tr>\n",
       "      <th>drugC</th>\n",
       "      <td>0</td>\n",
       "      <td>1</td>\n",
       "      <td>3</td>\n",
       "      <td>0</td>\n",
       "      <td>0</td>\n",
       "    </tr>\n",
       "    <tr>\n",
       "      <th>drugA</th>\n",
       "      <td>0</td>\n",
       "      <td>1</td>\n",
       "      <td>0</td>\n",
       "      <td>1</td>\n",
       "      <td>1</td>\n",
       "    </tr>\n",
       "    <tr>\n",
       "      <th>drugB</th>\n",
       "      <td>0</td>\n",
       "      <td>2</td>\n",
       "      <td>0</td>\n",
       "      <td>0</td>\n",
       "      <td>3</td>\n",
       "    </tr>\n",
       "  </tbody>\n",
       "</table>\n",
       "</div>"
      ],
      "text/plain": [
       "       drugX  DrugY  drugC  drugA  drugB\n",
       "drugX     14      1      0      0      0\n",
       "DrugY      1     24      0      1      0\n",
       "drugC      0      1      3      0      0\n",
       "drugA      0      1      0      1      1\n",
       "drugB      0      2      0      0      3"
      ]
     },
     "metadata": {},
     "output_type": "display_data"
    },
    {
     "name": "stdout",
     "output_type": "stream",
     "text": [
      "Accuracy score for train data is: 0.9065420560747663\n",
      "Accuracy score for test data is: 0.8490566037735849\n",
      "F1 score for train data is: 0.9045813164194818\n",
      "F1 score for test data is: 0.8425059217512049\n"
     ]
    }
   ],
   "source": [
    "display(cfm_lin_reg)\n",
    "\n",
    "print('Accuracy score for train data is:', accuracy_score(y_train,y_pred_train))\n",
    "print('Accuracy score for test data is:', accuracy_score(y_test,y_pred_test))\n",
    "\n",
    "print('F1 score for train data is:', f1_score(y_train,y_pred_train,average='weighted' ))\n",
    "print('F1 score for test data is:', f1_score(y_test,y_pred_test,average='weighted'))"
   ]
  },
  {
   "cell_type": "markdown",
   "id": "c5684855",
   "metadata": {},
   "source": [
    "### We can see that accuracy and F1 score are not satisfactory for logistic regression. \n",
    "### Hence lets try another classifier alogortithm Decision Tree with GridsearchCV for optimum scores."
   ]
  },
  {
   "cell_type": "code",
   "execution_count": 48,
   "id": "cb5f6044",
   "metadata": {},
   "outputs": [],
   "source": [
    "#-------------------------------------------------------------------------------------------------------------------------------\n",
    "from scipy.stats import randint as sp_randint                       # for initializing random integer values\n",
    "#-------------------------------------------------------------------------------------------------------------------------------\n",
    "from sklearn.metrics import accuracy_score                          # For calculating the accuracy for the model\n",
    "from sklearn.metrics import precision_score                         # For calculating the Precision of the model\n",
    "from sklearn.metrics import recall_score                            # For calculating the recall of the model\n",
    "from sklearn.metrics import precision_recall_curve                  # For precision and recall metric estimation\n",
    "from sklearn.metrics import confusion_matrix                        # For verifying model performance using confusion matrix\n",
    "from sklearn.metrics import f1_score                                # For Checking the F1-Score of our model  \n",
    "from sklearn.metrics import roc_curve                               # For Roc-Auc metric estimation\n",
    "#-------------------------------------------------------------------------------------------------------------------------------\n",
    "from sklearn.tree import DecisionTreeClassifier\n",
    "from sklearn.model_selection import GridSearchCV\n",
    "\n",
    "from sklearn.ensemble import RandomForestClassifier                 # To create the RandomForest Model\n",
    "from sklearn.model_selection import RandomizedSearchCV              # to create a RandomSearched hyper-tuned model\n",
    "#-------------------------------------------------------------------------------------------------------------------------------\n",
    "import warnings                                                     # Importing warning to disable runtime warnings\n",
    "warnings.filterwarnings(\"ignore\")                                   # Warnings will appear only once"
   ]
  },
  {
   "cell_type": "markdown",
   "id": "1b4d0a9f",
   "metadata": {},
   "source": [
    "## 4.2 Decision Tree with GridsearchCV**"
   ]
  },
  {
   "cell_type": "code",
   "execution_count": 49,
   "id": "4647378f",
   "metadata": {},
   "outputs": [],
   "source": [
    "\n",
    "decission_tree_classifier = DecisionTreeClassifier(random_state=42)\n",
    "# let the model decide the max_depth first and then by comparing my train and test scores \n",
    "# look for overfitting or underfitting and depending on the degree , we will decrease or increase the max_depth.\n",
    "\n",
    "# The ideal min_samples_split values tend to be between 1 to 40 for the CART algorithm which is the algorithm implemented in scikit-learn\n",
    "tree_para = [{'criterion':['gini','entropy'],\\\n",
    "              'max_depth':list(range(1,4,1)),\\\n",
    "              'max_features':['sqrt','log2',None],\\\n",
    "              \"min_samples_split\":list(range(1,5,1)),\\\n",
    "              \"min_samples_leaf\":list(range(1,4,1)),\\\n",
    "              \"splitter\":[\"best\",\"random\"]}]\n",
    "\n",
    "# tree_para = [{'criterion':['gini','entropy'],'max_features':['sqrt','log2',None]}]\n",
    "\n",
    "\n",
    "\n",
    "\n",
    "grid_search = GridSearchCV(decission_tree_classifier,tree_para,cv=3) # ,refit='AUC'\n",
    "#grid_search = GridSearchCV(decission_tree_classifier,tree_para)"
   ]
  },
  {
   "cell_type": "code",
   "execution_count": 50,
   "id": "d56ac1b1",
   "metadata": {},
   "outputs": [
    {
     "data": {
      "text/plain": [
       "GridSearchCV(cv=3, estimator=DecisionTreeClassifier(random_state=42),\n",
       "             param_grid=[{'criterion': ['gini', 'entropy'],\n",
       "                          'max_depth': [1, 2, 3],\n",
       "                          'max_features': ['sqrt', 'log2', None],\n",
       "                          'min_samples_leaf': [1, 2, 3],\n",
       "                          'min_samples_split': [1, 2, 3, 4],\n",
       "                          'splitter': ['best', 'random']}])"
      ]
     },
     "execution_count": 50,
     "metadata": {},
     "output_type": "execute_result"
    }
   ],
   "source": [
    "grid_search.fit(X_train_Features, y_train)\n",
    "# grid_search.fit(X_train_OS, y_train_OS)"
   ]
  },
  {
   "cell_type": "code",
   "execution_count": 51,
   "id": "35250251",
   "metadata": {},
   "outputs": [
    {
     "data": {
      "text/plain": [
       "{'criterion': 'entropy',\n",
       " 'max_depth': 3,\n",
       " 'max_features': None,\n",
       " 'min_samples_leaf': 1,\n",
       " 'min_samples_split': 2,\n",
       " 'splitter': 'best'}"
      ]
     },
     "execution_count": 51,
     "metadata": {},
     "output_type": "execute_result"
    }
   ],
   "source": [
    "grid_search.best_params_"
   ]
  },
  {
   "cell_type": "code",
   "execution_count": 52,
   "id": "dcf8e837",
   "metadata": {},
   "outputs": [],
   "source": [
    "#y_pred_train = logreg.predict(X_train_OS)\n",
    "y_pred_train_DT_GSCV = grid_search.predict(X_train_Features)\n",
    "y_pred_DT_GSCV = grid_search.predict(X_test_Features)"
   ]
  },
  {
   "cell_type": "code",
   "execution_count": 53,
   "id": "246699d4",
   "metadata": {},
   "outputs": [
    {
     "name": "stdout",
     "output_type": "stream",
     "text": [
      "['drugX', 'DrugY', 'drugC', 'drugA', 'drugB']\n"
     ]
    },
    {
     "data": {
      "text/html": [
       "<div>\n",
       "<style scoped>\n",
       "    .dataframe tbody tr th:only-of-type {\n",
       "        vertical-align: middle;\n",
       "    }\n",
       "\n",
       "    .dataframe tbody tr th {\n",
       "        vertical-align: top;\n",
       "    }\n",
       "\n",
       "    .dataframe thead th {\n",
       "        text-align: right;\n",
       "    }\n",
       "</style>\n",
       "<table border=\"1\" class=\"dataframe\">\n",
       "  <thead>\n",
       "    <tr style=\"text-align: right;\">\n",
       "      <th></th>\n",
       "      <th>drugX</th>\n",
       "      <th>DrugY</th>\n",
       "      <th>drugC</th>\n",
       "      <th>drugA</th>\n",
       "      <th>drugB</th>\n",
       "    </tr>\n",
       "  </thead>\n",
       "  <tbody>\n",
       "    <tr>\n",
       "      <th>drugX</th>\n",
       "      <td>15</td>\n",
       "      <td>0</td>\n",
       "      <td>0</td>\n",
       "      <td>0</td>\n",
       "      <td>0</td>\n",
       "    </tr>\n",
       "    <tr>\n",
       "      <th>DrugY</th>\n",
       "      <td>0</td>\n",
       "      <td>26</td>\n",
       "      <td>0</td>\n",
       "      <td>0</td>\n",
       "      <td>0</td>\n",
       "    </tr>\n",
       "    <tr>\n",
       "      <th>drugC</th>\n",
       "      <td>4</td>\n",
       "      <td>0</td>\n",
       "      <td>0</td>\n",
       "      <td>0</td>\n",
       "      <td>0</td>\n",
       "    </tr>\n",
       "    <tr>\n",
       "      <th>drugA</th>\n",
       "      <td>0</td>\n",
       "      <td>0</td>\n",
       "      <td>0</td>\n",
       "      <td>3</td>\n",
       "      <td>0</td>\n",
       "    </tr>\n",
       "    <tr>\n",
       "      <th>drugB</th>\n",
       "      <td>0</td>\n",
       "      <td>0</td>\n",
       "      <td>0</td>\n",
       "      <td>5</td>\n",
       "      <td>0</td>\n",
       "    </tr>\n",
       "  </tbody>\n",
       "</table>\n",
       "</div>"
      ],
      "text/plain": [
       "       drugX  DrugY  drugC  drugA  drugB\n",
       "drugX     15      0      0      0      0\n",
       "DrugY      0     26      0      0      0\n",
       "drugC      4      0      0      0      0\n",
       "drugA      0      0      0      3      0\n",
       "drugB      0      0      0      5      0"
      ]
     },
     "metadata": {},
     "output_type": "display_data"
    }
   ],
   "source": [
    "labels_target = list(labelencoder_target) #.classes_\n",
    "print(labels_target)\n",
    "\n",
    "confusion_matrix_DT_GSCV = pd.DataFrame(confusion_matrix(y_test, y_pred_DT_GSCV),\\\n",
    "                                            columns=labels_target,index=labels_target)\n",
    "display(confusion_matrix_DT_GSCV)"
   ]
  },
  {
   "cell_type": "code",
   "execution_count": 54,
   "id": "1026b509",
   "metadata": {},
   "outputs": [
    {
     "name": "stdout",
     "output_type": "stream",
     "text": [
      "Accuracy Score for train with GridSerachCV :   0.8505291005291006\n",
      "Accuracy Score for test for DT with GridSerachCV :  0.8301886792452831\n"
     ]
    }
   ],
   "source": [
    "print('Accuracy Score for train with GridSerachCV :  ' , grid_search.best_score_) # accuracy_score(y_train,y_pred_train_DT_GSCV))\n",
    "print('Accuracy Score for test for DT with GridSerachCV : ' , accuracy_score(y_test,y_pred_DT_GSCV))\n",
    "#print('F1 Score for train with GridSerachCV :  ' , f1_score(y_train,y_pred_train_DT_GSCV,average='weighted'))\n",
    "#print('F1 Score for test for DT with GridSerachCV : ' , f1_score(y_test,y_pred_DT_GSCV,average='weighted'))"
   ]
  },
  {
   "cell_type": "markdown",
   "id": "a8ba8601",
   "metadata": {},
   "source": [
    "### Lets try Random forest Algorithim of we can get better score than this DT "
   ]
  },
  {
   "cell_type": "markdown",
   "id": "b6579ff6",
   "metadata": {},
   "source": [
    "## 4.3 Random Forest baseline model**"
   ]
  },
  {
   "cell_type": "code",
   "execution_count": 55,
   "id": "286c151c",
   "metadata": {},
   "outputs": [
    {
     "data": {
      "text/plain": [
       "array([0.166312  , 0.53880176, 0.01978496, 0.09150292, 0.12999159,\n",
       "       0.05360677])"
      ]
     },
     "execution_count": 55,
     "metadata": {},
     "output_type": "execute_result"
    }
   ],
   "source": [
    "model_RFB = RandomForestClassifier().fit(X_train_Features,y_train)\n",
    "model_RFB.feature_importances_"
   ]
  },
  {
   "cell_type": "code",
   "execution_count": 56,
   "id": "a8bb50df",
   "metadata": {},
   "outputs": [
    {
     "data": {
      "text/html": [
       "<div>\n",
       "<style scoped>\n",
       "    .dataframe tbody tr th:only-of-type {\n",
       "        vertical-align: middle;\n",
       "    }\n",
       "\n",
       "    .dataframe tbody tr th {\n",
       "        vertical-align: top;\n",
       "    }\n",
       "\n",
       "    .dataframe thead th {\n",
       "        text-align: right;\n",
       "    }\n",
       "</style>\n",
       "<table border=\"1\" class=\"dataframe\">\n",
       "  <thead>\n",
       "    <tr style=\"text-align: right;\">\n",
       "      <th></th>\n",
       "      <th>importance</th>\n",
       "    </tr>\n",
       "  </thead>\n",
       "  <tbody>\n",
       "    <tr>\n",
       "      <th>Na_to_K</th>\n",
       "      <td>53.88018</td>\n",
       "    </tr>\n",
       "    <tr>\n",
       "      <th>Age</th>\n",
       "      <td>16.63120</td>\n",
       "    </tr>\n",
       "    <tr>\n",
       "      <th>NORMAL_BP</th>\n",
       "      <td>12.99916</td>\n",
       "    </tr>\n",
       "    <tr>\n",
       "      <th>LOW_BP</th>\n",
       "      <td>9.15029</td>\n",
       "    </tr>\n",
       "    <tr>\n",
       "      <th>NORMAL_Cholesterol</th>\n",
       "      <td>5.36068</td>\n",
       "    </tr>\n",
       "    <tr>\n",
       "      <th>M_Sex</th>\n",
       "      <td>1.97850</td>\n",
       "    </tr>\n",
       "  </tbody>\n",
       "</table>\n",
       "</div>"
      ],
      "text/plain": [
       "                    importance\n",
       "Na_to_K               53.88018\n",
       "Age                   16.63120\n",
       "NORMAL_BP             12.99916\n",
       "LOW_BP                 9.15029\n",
       "NORMAL_Cholesterol     5.36068\n",
       "M_Sex                  1.97850"
      ]
     },
     "execution_count": 56,
     "metadata": {},
     "output_type": "execute_result"
    }
   ],
   "source": [
    "important_features = pd.DataFrame((model_RFB.feature_importances_ * 100),index = X_train_Features.columns,columns=['importance']).sort_values('importance',ascending=False)\n",
    "important_features"
   ]
  },
  {
   "cell_type": "code",
   "execution_count": 57,
   "id": "362f167c",
   "metadata": {
    "scrolled": true
   },
   "outputs": [
    {
     "data": {
      "image/png": "[encoded data removed]",
      "text/plain": [
       "<Figure size 1440x360 with 1 Axes>"
      ]
     },
     "metadata": {
      "needs_background": "light"
     },
     "output_type": "display_data"
    }
   ],
   "source": [
    "plt.figure(figsize=(20,5))\n",
    "plt.plot(important_features)\n",
    "plt.tight_layout()"
   ]
  },
  {
   "cell_type": "markdown",
   "id": "5846ab25",
   "metadata": {},
   "source": [
    "### From above graph of feature importance,Sex feature has less importance\n",
    "### Hence excluding the same."
   ]
  },
  {
   "cell_type": "code",
   "execution_count": 58,
   "id": "1eb5aaa4",
   "metadata": {},
   "outputs": [],
   "source": [
    "# We can seee F_Sex is least importance , hence we can drop the same\n",
    "X_train_F2 =   X_train_Features[['Age','Na_to_K', 'LOW_BP','NORMAL_BP','NORMAL_Cholesterol']] #\n",
    "# We can seee F_Sex is least importance , hence we can drop the same\n",
    "X_test_F2 =    X_test_Features[['Age','Na_to_K', 'LOW_BP','NORMAL_BP','NORMAL_Cholesterol']] #\n",
    "\n",
    "X_Prod_F2 =  X_Prod_Features[['Age','Na_to_K', 'LOW_BP','NORMAL_BP','NORMAL_Cholesterol']] #"
   ]
  },
  {
   "cell_type": "code",
   "execution_count": 59,
   "id": "7f41211d",
   "metadata": {},
   "outputs": [
    {
     "name": "stdout",
     "output_type": "stream",
     "text": [
      "Test Dataset shape\n",
      "(53, 5) (53, 1)\n",
      "Train Dataset shape\n",
      "(107, 5) (107, 1)\n",
      "Prod Dataset shape\n",
      "(40, 5)\n"
     ]
    }
   ],
   "source": [
    "print(\"Test Dataset shape\")\n",
    "print(X_test_F2.shape,y_test.shape)\n",
    "print(\"Train Dataset shape\")\n",
    "print(X_train_F2.shape,y_train.shape)\n",
    "\n",
    "print(\"Prod Dataset shape\")\n",
    "print(X_Prod_F2.shape)"
   ]
  },
  {
   "cell_type": "markdown",
   "id": "963f71ca",
   "metadata": {},
   "source": [
    "## 4.4.0 RF Model With GridSearch"
   ]
  },
  {
   "cell_type": "code",
   "execution_count": 60,
   "id": "edcf732a",
   "metadata": {},
   "outputs": [
    {
     "data": {
      "text/plain": [
       "GridSearchCV(cv=5, estimator=RandomForestClassifier(),\n",
       "             param_grid={'criterion': ['gini', 'entropy'],\n",
       "                         'n_estimators': array([ 0,  1,  2,  3,  4,  5,  6,  7,  8,  9, 10, 11, 12, 13, 14, 15, 16,\n",
       "       17, 18, 19, 20, 21, 22, 23, 24, 25, 26, 27, 28, 29, 30, 31, 32, 33,\n",
       "       34, 35, 36, 37, 38, 39, 40, 41, 42, 43, 44, 45, 46, 47, 48, 49])})"
      ]
     },
     "execution_count": 60,
     "metadata": {},
     "output_type": "execute_result"
    }
   ],
   "source": [
    "GS = {\n",
    "    \"criterion\": [\"gini\", \"entropy\"],\n",
    "    \"n_estimators\": np.arange(0,50)\n",
    "}\n",
    "\n",
    "rf = RandomForestClassifier()\n",
    "rf_GS = GridSearchCV(rf, GS, cv=5)\n",
    "rf_GS.fit(X_train_F2, y_train)\n",
    " \n",
    "\n",
    "\n",
    "#print(\"Test Score: \" + str(rf_GS.score(X_test, y_test)))"
   ]
  },
  {
   "cell_type": "code",
   "execution_count": 61,
   "id": "5a464473",
   "metadata": {},
   "outputs": [
    {
     "name": "stdout",
     "output_type": "stream",
     "text": [
      "HP: {'criterion': 'gini', 'n_estimators': 11}\n",
      "Train Score: 0.9818181818181818\n"
     ]
    }
   ],
   "source": [
    "print(\"HP: \" + str(rf_GS.best_params_))\n",
    "print(\"Train Score: \" + str(rf_GS.best_score_))"
   ]
  },
  {
   "cell_type": "code",
   "execution_count": 62,
   "id": "52eb3540",
   "metadata": {},
   "outputs": [
    {
     "data": {
      "text/html": [
       "<div>\n",
       "<style scoped>\n",
       "    .dataframe tbody tr th:only-of-type {\n",
       "        vertical-align: middle;\n",
       "    }\n",
       "\n",
       "    .dataframe tbody tr th {\n",
       "        vertical-align: top;\n",
       "    }\n",
       "\n",
       "    .dataframe thead th {\n",
       "        text-align: right;\n",
       "    }\n",
       "</style>\n",
       "<table border=\"1\" class=\"dataframe\">\n",
       "  <thead>\n",
       "    <tr style=\"text-align: right;\">\n",
       "      <th></th>\n",
       "      <th>Drug_LABEL_ENCODE</th>\n",
       "    </tr>\n",
       "  </thead>\n",
       "  <tbody>\n",
       "    <tr>\n",
       "      <th>105</th>\n",
       "      <td>0</td>\n",
       "    </tr>\n",
       "    <tr>\n",
       "      <th>108</th>\n",
       "      <td>1</td>\n",
       "    </tr>\n",
       "    <tr>\n",
       "      <th>141</th>\n",
       "      <td>1</td>\n",
       "    </tr>\n",
       "    <tr>\n",
       "      <th>55</th>\n",
       "      <td>1</td>\n",
       "    </tr>\n",
       "    <tr>\n",
       "      <th>94</th>\n",
       "      <td>0</td>\n",
       "    </tr>\n",
       "  </tbody>\n",
       "</table>\n",
       "</div>"
      ],
      "text/plain": [
       "     Drug_LABEL_ENCODE\n",
       "105                  0\n",
       "108                  1\n",
       "141                  1\n",
       "55                   1\n",
       "94                   0"
      ]
     },
     "execution_count": 62,
     "metadata": {},
     "output_type": "execute_result"
    }
   ],
   "source": [
    "y_test.head()"
   ]
  },
  {
   "cell_type": "code",
   "execution_count": 63,
   "id": "9e8a26c0",
   "metadata": {},
   "outputs": [
    {
     "name": "stdout",
     "output_type": "stream",
     "text": [
      "HP: {'criterion': 'gini', 'n_estimators': 11}\n"
     ]
    }
   ],
   "source": [
    "print(\"HP: \" + str(rf_GS.best_params_))"
   ]
  },
  {
   "cell_type": "code",
   "execution_count": 64,
   "id": "aff3384c",
   "metadata": {},
   "outputs": [],
   "source": [
    "y_pred_train_RFGS = pd.DataFrame(rf_GS.predict(X_train_F2),columns=['Drug_LABEL_ENCODE'])\n",
    "y_pred_test_RFGS = pd.DataFrame(rf_GS.predict(X_test_F2),columns=['Drug_LABEL_ENCODE'])\n"
   ]
  },
  {
   "cell_type": "code",
   "execution_count": 65,
   "id": "d980e327",
   "metadata": {},
   "outputs": [
    {
     "name": "stdout",
     "output_type": "stream",
     "text": [
      "['drugX', 'DrugY', 'drugC', 'drugA', 'drugB']\n"
     ]
    },
    {
     "data": {
      "text/html": [
       "<div>\n",
       "<style scoped>\n",
       "    .dataframe tbody tr th:only-of-type {\n",
       "        vertical-align: middle;\n",
       "    }\n",
       "\n",
       "    .dataframe tbody tr th {\n",
       "        vertical-align: top;\n",
       "    }\n",
       "\n",
       "    .dataframe thead th {\n",
       "        text-align: right;\n",
       "    }\n",
       "</style>\n",
       "<table border=\"1\" class=\"dataframe\">\n",
       "  <thead>\n",
       "    <tr style=\"text-align: right;\">\n",
       "      <th></th>\n",
       "      <th>drugX</th>\n",
       "      <th>DrugY</th>\n",
       "      <th>drugC</th>\n",
       "      <th>drugA</th>\n",
       "      <th>drugB</th>\n",
       "    </tr>\n",
       "  </thead>\n",
       "  <tbody>\n",
       "    <tr>\n",
       "      <th>drugX</th>\n",
       "      <td>15</td>\n",
       "      <td>0</td>\n",
       "      <td>0</td>\n",
       "      <td>0</td>\n",
       "      <td>0</td>\n",
       "    </tr>\n",
       "    <tr>\n",
       "      <th>DrugY</th>\n",
       "      <td>0</td>\n",
       "      <td>26</td>\n",
       "      <td>0</td>\n",
       "      <td>0</td>\n",
       "      <td>0</td>\n",
       "    </tr>\n",
       "    <tr>\n",
       "      <th>drugC</th>\n",
       "      <td>0</td>\n",
       "      <td>0</td>\n",
       "      <td>4</td>\n",
       "      <td>0</td>\n",
       "      <td>0</td>\n",
       "    </tr>\n",
       "    <tr>\n",
       "      <th>drugA</th>\n",
       "      <td>0</td>\n",
       "      <td>0</td>\n",
       "      <td>0</td>\n",
       "      <td>3</td>\n",
       "      <td>0</td>\n",
       "    </tr>\n",
       "    <tr>\n",
       "      <th>drugB</th>\n",
       "      <td>0</td>\n",
       "      <td>0</td>\n",
       "      <td>0</td>\n",
       "      <td>0</td>\n",
       "      <td>5</td>\n",
       "    </tr>\n",
       "  </tbody>\n",
       "</table>\n",
       "</div>"
      ],
      "text/plain": [
       "       drugX  DrugY  drugC  drugA  drugB\n",
       "drugX     15      0      0      0      0\n",
       "DrugY      0     26      0      0      0\n",
       "drugC      0      0      4      0      0\n",
       "drugA      0      0      0      3      0\n",
       "drugB      0      0      0      0      5"
      ]
     },
     "metadata": {},
     "output_type": "display_data"
    }
   ],
   "source": [
    "labels_target = list(labelencoder_target) #.classes_\n",
    "print(labels_target)\n",
    "\n",
    "confusion_matrix_RF_GSCV = pd.DataFrame(confusion_matrix(y_test, y_pred_test_RFGS),\\\n",
    "                                            columns=labels_target,index=labels_target)\n",
    "display(confusion_matrix_RF_GSCV)"
   ]
  },
  {
   "cell_type": "code",
   "execution_count": 66,
   "id": "4b07a498",
   "metadata": {},
   "outputs": [
    {
     "name": "stdout",
     "output_type": "stream",
     "text": [
      "Accuracy Score for train with RF GridSearch CV Algo :   0.9818181818181818\n",
      "Accuracy score for test data with RF GridSearch is: 1.0\n"
     ]
    }
   ],
   "source": [
    "print('Accuracy Score for train with RF GridSearch CV Algo :  ' , rf_GS.best_score_) #   accuracy_score(y_train,y_pred_train_RFGS))\n",
    "print('Accuracy score for test data with RF GridSearch is:', accuracy_score(y_test,y_pred_test_RFGS))\n",
    "#print('F1 Score for train with RF GridSearch CV Algo :  ' , f1_score(y_train,y_pred_train_RFGS,average='weighted'))\n",
    "#print('F1 score for test data with RF GridSearch is:', f1_score(y_test,y_pred_test_RFGS,average='weighted'))"
   ]
  },
  {
   "cell_type": "code",
   "execution_count": 67,
   "id": "88a5ece8",
   "metadata": {},
   "outputs": [
    {
     "name": "stdout",
     "output_type": "stream",
     "text": [
      "0.9818181818181818 1.0\n",
      "[0.9818181818181818, 1.0]\n"
     ]
    }
   ],
   "source": [
    "acc_train_RFGridCV = rf_GS.best_score_ # accuracy_score(y_train,y_pred_train_RFGS)\n",
    "acc_test_RFGridCV  = accuracy_score(y_test,y_pred_test_RFGS)\n",
    "print(acc_train_RFGridCV,acc_test_RFGridCV)\n",
    "\n",
    "lst_AccRFGridCV =  [acc_train_RFGridCV,acc_test_RFGridCV]\n",
    "lst_AccRFGridCV_indx =[\"RF Grid CV Train \",\"RF Grid CV Test \"]\n",
    "print(lst_AccRFGridCV)\n",
    "\n",
    "f1_train_RFGridCV = f1_score(y_train,y_pred_train_RFGS,average='weighted')\n",
    "f1_test_RFGridCV  =  f1_score(y_test,y_pred_test_RFGS,average='weighted')"
   ]
  },
  {
   "cell_type": "code",
   "execution_count": 68,
   "id": "5b5915ff",
   "metadata": {},
   "outputs": [
    {
     "data": {
      "text/html": [
       "<div>\n",
       "<style scoped>\n",
       "    .dataframe tbody tr th:only-of-type {\n",
       "        vertical-align: middle;\n",
       "    }\n",
       "\n",
       "    .dataframe tbody tr th {\n",
       "        vertical-align: top;\n",
       "    }\n",
       "\n",
       "    .dataframe thead th {\n",
       "        text-align: right;\n",
       "    }\n",
       "</style>\n",
       "<table border=\"1\" class=\"dataframe\">\n",
       "  <thead>\n",
       "    <tr style=\"text-align: right;\">\n",
       "      <th></th>\n",
       "      <th>score</th>\n",
       "    </tr>\n",
       "  </thead>\n",
       "  <tbody>\n",
       "    <tr>\n",
       "      <th>RF Grid CV Train</th>\n",
       "      <td>0.98182</td>\n",
       "    </tr>\n",
       "    <tr>\n",
       "      <th>RF Grid CV Test</th>\n",
       "      <td>1.00000</td>\n",
       "    </tr>\n",
       "  </tbody>\n",
       "</table>\n",
       "</div>"
      ],
      "text/plain": [
       "                    score\n",
       "RF Grid CV Train  0.98182\n",
       "RF Grid CV Test   1.00000"
      ]
     },
     "metadata": {},
     "output_type": "display_data"
    }
   ],
   "source": [
    "pd_plt_RFGS = pd.DataFrame(lst_AccRFGridCV,columns=[\"score\"],index=lst_AccRFGridCV_indx)\n",
    "display(pd_plt_RFGS)\n",
    "\n",
    "import random\n"
   ]
  },
  {
   "cell_type": "markdown",
   "id": "6ea1f881",
   "metadata": {},
   "source": [
    "## 4.4 Random Forest with RandomizedsearchCV**"
   ]
  },
  {
   "cell_type": "code",
   "execution_count": 69,
   "id": "496761b2",
   "metadata": {},
   "outputs": [],
   "source": [
    "# parameters for GridSearchCV\n",
    "# specify parameters and distributions to sample from\n",
    "param_dist = {\"max_depth\": range(2,7),\\\n",
    "              \"min_samples_split\": sp_randint(1, 10),\\\n",
    "              \"min_samples_leaf\": sp_randint(1, 5),\\\n",
    "              \"bootstrap\": [True, False],\\\n",
    "              \"n_estimators\": list(range(1,25,1)),\\\n",
    "              \"criterion\" : [\"gini\", \"entropy\"],\\\n",
    "              'max_features': ['sqrt', 'log2', None]\\\n",
    "             }\n",
    "# run randomized search\n",
    "n_iter_search = 30\n",
    "# [4, , 700, 1000, 1500],"
   ]
  },
  {
   "cell_type": "code",
   "execution_count": 70,
   "id": "f2841084",
   "metadata": {},
   "outputs": [],
   "source": [
    "\n",
    "model = RandomForestClassifier(random_state = 42)\n",
    "n_iter_search = 5\n",
    "random_search = RandomizedSearchCV(model, param_distributions = param_dist,\\\n",
    "                                   n_iter = n_iter_search,cv=5,\\\n",
    "                                   n_jobs = -1)"
   ]
  },
  {
   "cell_type": "code",
   "execution_count": 71,
   "id": "a267b46e",
   "metadata": {},
   "outputs": [
    {
     "name": "stdout",
     "output_type": "stream",
     "text": [
      "Train Score: 0.9727272727272727\n"
     ]
    }
   ],
   "source": [
    "# random_search.fit(X_train_OS, y_train_OS)\n",
    "random_search.fit(X_train_F2, y_train)\n",
    "\n",
    "print(\"Train Score: \" + str(random_search.best_score_))"
   ]
  },
  {
   "cell_type": "code",
   "execution_count": 72,
   "id": "faf41769",
   "metadata": {},
   "outputs": [
    {
     "name": "stdout",
     "output_type": "stream",
     "text": [
      "best parameters: {'bootstrap': True, 'criterion': 'entropy', 'max_depth': 5, 'max_features': None, 'min_samples_leaf': 3, 'min_samples_split': 5, 'n_estimators': 2}\n"
     ]
    }
   ],
   "source": [
    "print(\"best parameters: \" + str(random_search.best_params_))"
   ]
  },
  {
   "cell_type": "code",
   "execution_count": 73,
   "id": "ac11f9bf",
   "metadata": {},
   "outputs": [],
   "source": [
    "y_pred_train_RandSearchCV = random_search.predict(X_train_F2)\n",
    "y_pred_test_RandSearchCV = random_search.predict(X_test_F2)"
   ]
  },
  {
   "cell_type": "code",
   "execution_count": 74,
   "id": "5bb2fcd0",
   "metadata": {},
   "outputs": [
    {
     "data": {
      "text/html": [
       "<div>\n",
       "<style scoped>\n",
       "    .dataframe tbody tr th:only-of-type {\n",
       "        vertical-align: middle;\n",
       "    }\n",
       "\n",
       "    .dataframe tbody tr th {\n",
       "        vertical-align: top;\n",
       "    }\n",
       "\n",
       "    .dataframe thead th {\n",
       "        text-align: right;\n",
       "    }\n",
       "</style>\n",
       "<table border=\"1\" class=\"dataframe\">\n",
       "  <thead>\n",
       "    <tr style=\"text-align: right;\">\n",
       "      <th></th>\n",
       "      <th>drugX</th>\n",
       "      <th>DrugY</th>\n",
       "      <th>drugC</th>\n",
       "      <th>drugA</th>\n",
       "      <th>drugB</th>\n",
       "    </tr>\n",
       "  </thead>\n",
       "  <tbody>\n",
       "    <tr>\n",
       "      <th>drugX</th>\n",
       "      <td>15</td>\n",
       "      <td>0</td>\n",
       "      <td>0</td>\n",
       "      <td>0</td>\n",
       "      <td>0</td>\n",
       "    </tr>\n",
       "    <tr>\n",
       "      <th>DrugY</th>\n",
       "      <td>0</td>\n",
       "      <td>26</td>\n",
       "      <td>0</td>\n",
       "      <td>0</td>\n",
       "      <td>0</td>\n",
       "    </tr>\n",
       "    <tr>\n",
       "      <th>drugC</th>\n",
       "      <td>0</td>\n",
       "      <td>0</td>\n",
       "      <td>4</td>\n",
       "      <td>0</td>\n",
       "      <td>0</td>\n",
       "    </tr>\n",
       "    <tr>\n",
       "      <th>drugA</th>\n",
       "      <td>0</td>\n",
       "      <td>0</td>\n",
       "      <td>0</td>\n",
       "      <td>3</td>\n",
       "      <td>0</td>\n",
       "    </tr>\n",
       "    <tr>\n",
       "      <th>drugB</th>\n",
       "      <td>0</td>\n",
       "      <td>0</td>\n",
       "      <td>0</td>\n",
       "      <td>0</td>\n",
       "      <td>5</td>\n",
       "    </tr>\n",
       "  </tbody>\n",
       "</table>\n",
       "</div>"
      ],
      "text/plain": [
       "       drugX  DrugY  drugC  drugA  drugB\n",
       "drugX     15      0      0      0      0\n",
       "DrugY      0     26      0      0      0\n",
       "drugC      0      0      4      0      0\n",
       "drugA      0      0      0      3      0\n",
       "drugB      0      0      0      0      5"
      ]
     },
     "metadata": {},
     "output_type": "display_data"
    }
   ],
   "source": [
    "confusion_matrix_RandSearchCV = pd.DataFrame(confusion_matrix(y_test, y_pred_test_RandSearchCV),\\\n",
    "                                            columns=labels_target,index=labels_target)\n",
    "display(confusion_matrix_RandSearchCV)"
   ]
  },
  {
   "cell_type": "code",
   "execution_count": 75,
   "id": "b163e7ec",
   "metadata": {
    "scrolled": true
   },
   "outputs": [
    {
     "name": "stdout",
     "output_type": "stream",
     "text": [
      "Accuracy Score for train with RandomisedSearch CV Algo :   0.9727272727272727\n",
      "Accuracy score for test data with RandomisedSearch is: 1.0\n"
     ]
    }
   ],
   "source": [
    "print('Accuracy Score for train with RandomisedSearch CV Algo :  ' ,random_search.best_score_ ) # accuracy_score(y_train,y_pred_train_RandSearchCV))\n",
    "print('Accuracy score for test data with RandomisedSearch is:', accuracy_score(y_test,y_pred_test_RandSearchCV))\n",
    "#print('F1 Score for train with RandomisedSearch CV Algo :  ' , f1_score(y_train,y_pred_train_RandSearchCV,average='weighted'))\n",
    "#print('F1 score for test data with RandomisedSearch is:', f1_score(y_test,y_pred_test_RandSearchCV,average='weighted'))"
   ]
  },
  {
   "cell_type": "code",
   "execution_count": 76,
   "id": "6c3a73e7",
   "metadata": {},
   "outputs": [],
   "source": [
    "acc_train_RFRandCV = random_search.best_score_  # accuracy_score(y_train,y_pred_train_RandSearchCV)\n",
    "acc_test_RFRandCV = accuracy_score(y_test,y_pred_test_RandSearchCV)\n",
    "lst_AccRFEandCV =  [acc_train_RFRandCV,acc_test_RFRandCV]\n",
    "lst_AccRFEandCV_indx =[\"RF Random CV Train \",\"RF Random CV Test \"]\n",
    "f1_train_RFRandCV = f1_score(y_train,y_pred_train_RandSearchCV,average='weighted')\n",
    "f1_test_RFRandCV =  f1_score(y_test,y_pred_test_RandSearchCV,average='weighted')"
   ]
  },
  {
   "cell_type": "code",
   "execution_count": 77,
   "id": "0817f143",
   "metadata": {},
   "outputs": [
    {
     "data": {
      "text/html": [
       "<div>\n",
       "<style scoped>\n",
       "    .dataframe tbody tr th:only-of-type {\n",
       "        vertical-align: middle;\n",
       "    }\n",
       "\n",
       "    .dataframe tbody tr th {\n",
       "        vertical-align: top;\n",
       "    }\n",
       "\n",
       "    .dataframe thead th {\n",
       "        text-align: right;\n",
       "    }\n",
       "</style>\n",
       "<table border=\"1\" class=\"dataframe\">\n",
       "  <thead>\n",
       "    <tr style=\"text-align: right;\">\n",
       "      <th></th>\n",
       "      <th>score</th>\n",
       "    </tr>\n",
       "  </thead>\n",
       "  <tbody>\n",
       "    <tr>\n",
       "      <th>RF Random CV Train</th>\n",
       "      <td>0.97273</td>\n",
       "    </tr>\n",
       "    <tr>\n",
       "      <th>RF Random CV Test</th>\n",
       "      <td>1.00000</td>\n",
       "    </tr>\n",
       "  </tbody>\n",
       "</table>\n",
       "</div>"
      ],
      "text/plain": [
       "                      score\n",
       "RF Random CV Train  0.97273\n",
       "RF Random CV Test   1.00000"
      ]
     },
     "metadata": {},
     "output_type": "display_data"
    },
    {
     "data": {
      "text/html": [
       "<div>\n",
       "<style scoped>\n",
       "    .dataframe tbody tr th:only-of-type {\n",
       "        vertical-align: middle;\n",
       "    }\n",
       "\n",
       "    .dataframe tbody tr th {\n",
       "        vertical-align: top;\n",
       "    }\n",
       "\n",
       "    .dataframe thead th {\n",
       "        text-align: right;\n",
       "    }\n",
       "</style>\n",
       "<table border=\"1\" class=\"dataframe\">\n",
       "  <thead>\n",
       "    <tr style=\"text-align: right;\">\n",
       "      <th></th>\n",
       "      <th>score</th>\n",
       "    </tr>\n",
       "  </thead>\n",
       "  <tbody>\n",
       "    <tr>\n",
       "      <th>RF Grid CV Train</th>\n",
       "      <td>0.98182</td>\n",
       "    </tr>\n",
       "    <tr>\n",
       "      <th>RF Grid CV Test</th>\n",
       "      <td>1.00000</td>\n",
       "    </tr>\n",
       "  </tbody>\n",
       "</table>\n",
       "</div>"
      ],
      "text/plain": [
       "                    score\n",
       "RF Grid CV Train  0.98182\n",
       "RF Grid CV Test   1.00000"
      ]
     },
     "metadata": {},
     "output_type": "display_data"
    }
   ],
   "source": [
    "pd_plt = pd.DataFrame(lst_AccRFEandCV,columns=[\"score\"],index=lst_AccRFEandCV_indx)\n",
    "display(pd_plt)\n",
    "display(pd_plt_RFGS)"
   ]
  },
  {
   "cell_type": "code",
   "execution_count": 78,
   "id": "d17505a2",
   "metadata": {},
   "outputs": [
    {
     "data": {
      "image/png": "[encoded data removed]",
      "text/plain": [
       "<Figure size 1080x360 with 2 Axes>"
      ]
     },
     "metadata": {
      "needs_background": "light"
     },
     "output_type": "display_data"
    }
   ],
   "source": [
    "plt.figure(figsize=(15,5))\n",
    "\n",
    "plt.subplot(1,2,1)\n",
    "sns.barplot(x=pd_plt.index,y=pd_plt[\"score\"])\n",
    "\n",
    "plt.subplot(1,2,2)\n",
    "sns.barplot(x=pd_plt_RFGS.index,y=pd_plt_RFGS[\"score\"])\n",
    "plt.show()"
   ]
  },
  {
   "cell_type": "code",
   "execution_count": 79,
   "id": "2dfc5e66",
   "metadata": {},
   "outputs": [],
   "source": [
    "y_submit = rf_GS.predict(X_Prod_F2) # random_search"
   ]
  },
  {
   "cell_type": "code",
   "execution_count": 80,
   "id": "2b3e8b86",
   "metadata": {},
   "outputs": [
    {
     "data": {
      "text/plain": [
       "(40, 7)"
      ]
     },
     "execution_count": 80,
     "metadata": {},
     "output_type": "execute_result"
    }
   ],
   "source": [
    "X_Prod_F2.shape\n",
    "df_drug_prod.shape"
   ]
  },
  {
   "cell_type": "code",
   "execution_count": 81,
   "id": "9e64c442",
   "metadata": {},
   "outputs": [
    {
     "data": {
      "text/plain": [
       "(40,)"
      ]
     },
     "execution_count": 81,
     "metadata": {},
     "output_type": "execute_result"
    }
   ],
   "source": [
    "y_submit.shape"
   ]
  },
  {
   "cell_type": "code",
   "execution_count": 82,
   "id": "b6001f26",
   "metadata": {},
   "outputs": [],
   "source": [
    "#df_y_submit = pd.DataFrame(y_submit)"
   ]
  },
  {
   "cell_type": "code",
   "execution_count": 83,
   "id": "f4c3e8b9",
   "metadata": {},
   "outputs": [
    {
     "data": {
      "text/html": [
       "<div>\n",
       "<style scoped>\n",
       "    .dataframe tbody tr th:only-of-type {\n",
       "        vertical-align: middle;\n",
       "    }\n",
       "\n",
       "    .dataframe tbody tr th {\n",
       "        vertical-align: top;\n",
       "    }\n",
       "\n",
       "    .dataframe thead th {\n",
       "        text-align: right;\n",
       "    }\n",
       "</style>\n",
       "<table border=\"1\" class=\"dataframe\">\n",
       "  <thead>\n",
       "    <tr style=\"text-align: right;\">\n",
       "      <th></th>\n",
       "      <th>Id</th>\n",
       "      <th>Age</th>\n",
       "      <th>Sex</th>\n",
       "      <th>BP</th>\n",
       "      <th>Cholesterol</th>\n",
       "      <th>Na_to_K</th>\n",
       "      <th>Na_to_K_log</th>\n",
       "    </tr>\n",
       "  </thead>\n",
       "  <tbody>\n",
       "    <tr>\n",
       "      <th>0</th>\n",
       "      <td>95</td>\n",
       "      <td>36</td>\n",
       "      <td>M</td>\n",
       "      <td>LOW</td>\n",
       "      <td>NORMAL</td>\n",
       "      <td>11.42400</td>\n",
       "      <td>2.43572</td>\n",
       "    </tr>\n",
       "    <tr>\n",
       "      <th>1</th>\n",
       "      <td>15</td>\n",
       "      <td>16</td>\n",
       "      <td>F</td>\n",
       "      <td>HIGH</td>\n",
       "      <td>NORMAL</td>\n",
       "      <td>15.51600</td>\n",
       "      <td>2.74187</td>\n",
       "    </tr>\n",
       "    <tr>\n",
       "      <th>2</th>\n",
       "      <td>30</td>\n",
       "      <td>18</td>\n",
       "      <td>F</td>\n",
       "      <td>NORMAL</td>\n",
       "      <td>NORMAL</td>\n",
       "      <td>8.75000</td>\n",
       "      <td>2.16905</td>\n",
       "    </tr>\n",
       "    <tr>\n",
       "      <th>3</th>\n",
       "      <td>158</td>\n",
       "      <td>59</td>\n",
       "      <td>F</td>\n",
       "      <td>LOW</td>\n",
       "      <td>HIGH</td>\n",
       "      <td>10.44400</td>\n",
       "      <td>2.34603</td>\n",
       "    </tr>\n",
       "    <tr>\n",
       "      <th>4</th>\n",
       "      <td>128</td>\n",
       "      <td>47</td>\n",
       "      <td>M</td>\n",
       "      <td>LOW</td>\n",
       "      <td>NORMAL</td>\n",
       "      <td>33.54200</td>\n",
       "      <td>3.51280</td>\n",
       "    </tr>\n",
       "  </tbody>\n",
       "</table>\n",
       "</div>"
      ],
      "text/plain": [
       "    Id  Age Sex      BP Cholesterol  Na_to_K  Na_to_K_log\n",
       "0   95   36   M     LOW      NORMAL 11.42400      2.43572\n",
       "1   15   16   F    HIGH      NORMAL 15.51600      2.74187\n",
       "2   30   18   F  NORMAL      NORMAL  8.75000      2.16905\n",
       "3  158   59   F     LOW        HIGH 10.44400      2.34603\n",
       "4  128   47   M     LOW      NORMAL 33.54200      3.51280"
      ]
     },
     "metadata": {},
     "output_type": "display_data"
    },
    {
     "data": {
      "text/html": [
       "<div>\n",
       "<style scoped>\n",
       "    .dataframe tbody tr th:only-of-type {\n",
       "        vertical-align: middle;\n",
       "    }\n",
       "\n",
       "    .dataframe tbody tr th {\n",
       "        vertical-align: top;\n",
       "    }\n",
       "\n",
       "    .dataframe thead th {\n",
       "        text-align: right;\n",
       "    }\n",
       "</style>\n",
       "<table border=\"1\" class=\"dataframe\">\n",
       "  <thead>\n",
       "    <tr style=\"text-align: right;\">\n",
       "      <th></th>\n",
       "      <th>Drug</th>\n",
       "    </tr>\n",
       "  </thead>\n",
       "  <tbody>\n",
       "    <tr>\n",
       "      <th>0</th>\n",
       "      <td>0</td>\n",
       "    </tr>\n",
       "    <tr>\n",
       "      <th>1</th>\n",
       "      <td>1</td>\n",
       "    </tr>\n",
       "    <tr>\n",
       "      <th>2</th>\n",
       "      <td>0</td>\n",
       "    </tr>\n",
       "    <tr>\n",
       "      <th>3</th>\n",
       "      <td>2</td>\n",
       "    </tr>\n",
       "    <tr>\n",
       "      <th>4</th>\n",
       "      <td>1</td>\n",
       "    </tr>\n",
       "  </tbody>\n",
       "</table>\n",
       "</div>"
      ],
      "text/plain": [
       "   Drug\n",
       "0     0\n",
       "1     1\n",
       "2     0\n",
       "3     2\n",
       "4     1"
      ]
     },
     "metadata": {},
     "output_type": "display_data"
    }
   ],
   "source": [
    "#display(df_y_submit.head())\n",
    "df_submit = pd.DataFrame(y_submit,columns=['Drug']) # labelencoder_target.inverse_transform(df_y_submit) \n",
    "display(df_drug_prod.head())\n",
    "display(df_submit.head())"
   ]
  },
  {
   "cell_type": "code",
   "execution_count": 84,
   "id": "35328963",
   "metadata": {},
   "outputs": [
    {
     "data": {
      "text/html": [
       "<div>\n",
       "<style scoped>\n",
       "    .dataframe tbody tr th:only-of-type {\n",
       "        vertical-align: middle;\n",
       "    }\n",
       "\n",
       "    .dataframe tbody tr th {\n",
       "        vertical-align: top;\n",
       "    }\n",
       "\n",
       "    .dataframe thead th {\n",
       "        text-align: right;\n",
       "    }\n",
       "</style>\n",
       "<table border=\"1\" class=\"dataframe\">\n",
       "  <thead>\n",
       "    <tr style=\"text-align: right;\">\n",
       "      <th></th>\n",
       "      <th>Id</th>\n",
       "      <th>Drug</th>\n",
       "    </tr>\n",
       "  </thead>\n",
       "  <tbody>\n",
       "    <tr>\n",
       "      <th>0</th>\n",
       "      <td>95</td>\n",
       "      <td>0</td>\n",
       "    </tr>\n",
       "    <tr>\n",
       "      <th>1</th>\n",
       "      <td>15</td>\n",
       "      <td>1</td>\n",
       "    </tr>\n",
       "    <tr>\n",
       "      <th>2</th>\n",
       "      <td>30</td>\n",
       "      <td>0</td>\n",
       "    </tr>\n",
       "    <tr>\n",
       "      <th>3</th>\n",
       "      <td>158</td>\n",
       "      <td>2</td>\n",
       "    </tr>\n",
       "    <tr>\n",
       "      <th>4</th>\n",
       "      <td>128</td>\n",
       "      <td>1</td>\n",
       "    </tr>\n",
       "  </tbody>\n",
       "</table>\n",
       "</div>"
      ],
      "text/plain": [
       "    Id  Drug\n",
       "0   95     0\n",
       "1   15     1\n",
       "2   30     0\n",
       "3  158     2\n",
       "4  128     1"
      ]
     },
     "metadata": {},
     "output_type": "display_data"
    }
   ],
   "source": [
    "#Merge with test dataset to get Id column from test set \n",
    "df_submit_final = df_submit.merge(df_drug_prod,how='inner',left_index=True,right_index=True)[['Id','Drug']]\n",
    "display(df_submit_final.head())"
   ]
  },
  {
   "cell_type": "code",
   "execution_count": 85,
   "id": "13bc9ba2",
   "metadata": {},
   "outputs": [
    {
     "name": "stdout",
     "output_type": "stream",
     "text": [
      "(40, 2)\n",
      "File exported successfully\n"
     ]
    }
   ],
   "source": [
    "print(df_submit_final.shape)\n",
    "if df_submit_final.shape[0]==40 and df_submit_final.shape[1]==2:\n",
    "    df_submit_final.to_csv('submission.csv', index=False, header=False)\n",
    "    print(\"File exported successfully\")\n",
    "else:\n",
    "    print(\"Issue in export please check submit result datafrane\")"
   ]
  },
  {
   "cell_type": "markdown",
   "id": "4b3f0d81",
   "metadata": {},
   "source": [
    "<a id=section8></a>\n",
    "## Conclusion\n",
    "\n",
    " - We studied **in-depth** about the various **features** in the data, their **characteristics** and their **distributions**.\n",
    "\n",
    "- We went through an **extensive** and **thorough** data analysis process, exploring various relationships between the different **features**.\n",
    "\n",
    "- We **encoded** the *categorical data* and **removed** any *redundant columns* to make our dataset fit for training.\n",
    "\n",
    "- We tested different models, performed **cross-validation** on them, and compared their performance.\n",
    "\n",
    "- We selected the **best hyperparameter combination** model found using Grid Search as our **final model**, and made **predictions** on the test set using it."
   ]
  },
  {
   "cell_type": "code",
   "execution_count": null,
   "id": "33b9e805",
   "metadata": {},
   "outputs": [],
   "source": []
  }
 ],
 "metadata": {
  "kernelspec": {
   "display_name": "Python 3",
   "language": "python",
   "name": "python3"
  },
  "language_info": {
   "codemirror_mode": {
    "name": "ipython",
    "version": 3
   },
   "file_extension": ".py",
   "mimetype": "text/x-python",
   "name": "python",
   "nbconvert_exporter": "python",
   "pygments_lexer": "ipython3",
   "version": "3.8.8"
  }
 },
 "nbformat": 4,
 "nbformat_minor": 5
}
